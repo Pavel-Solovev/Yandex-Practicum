{
 "cells": [
  {
   "cell_type": "markdown",
   "metadata": {},
   "source": [
    "# Принятие решений в бизнесе на основе данных"
   ]
  },
  {
   "cell_type": "markdown",
   "metadata": {},
   "source": [
    "Часть 1. Приоритизация гипотез.\n",
    "\n",
    "В файле /datasets/hypothesis.csv 9 гипотез по увеличению выручки интернет-магазина с указанными параметрами Reach, Impact, Confidence, Effort.\n",
    "\n",
    "Задача\n",
    "Примените фреймворк ICE для приоритизации гипотез. Отсортируйте их по убыванию приоритета.\n",
    "Примените фреймворк RICE для приоритизации гипотез. Отсортируйте их по убыванию приоритета.\n",
    "Укажите, как изменилась приоритизация гипотез при применении RICE вместо ICE. Объясните, почему так произошло."
   ]
  },
  {
   "cell_type": "markdown",
   "metadata": {},
   "source": [
    "Часть 2. Анализ A/B-теста\n",
    "Вы провели A/B-тест и получили результаты, которые описаны в файлах /datasets/orders.csv и /datasets/visitors.csv.\n",
    "Задача\n",
    "Проанализируйте A/B-тест\n",
    "\n",
    "Примите решение по результатам теста и объясните его. Варианты решений: \n",
    "1. Остановить тест, зафиксировать победу одной из групп. \n",
    "2. Остановить тест, зафиксировать отсутствие различий между группами. \n",
    "3. Продолжить тест."
   ]
  },
  {
   "cell_type": "code",
   "execution_count": 1,
   "metadata": {},
   "outputs": [],
   "source": [
    "import pandas as pd\n",
    "import datetime as dt\n",
    "import numpy as np\n",
    "import matplotlib.pyplot as plt\n",
    "from IPython.display import display, HTML\n",
    "import os\n",
    "import scipy.stats as stats"
   ]
  },
  {
   "cell_type": "code",
   "execution_count": 2,
   "metadata": {},
   "outputs": [],
   "source": [
    "import warnings\n",
    "warnings.filterwarnings(\"ignore\")\n",
    "pd.set_option('display.max_columns', None)\n",
    "pd.options.display.max_colwidth = 150"
   ]
  },
  {
   "cell_type": "markdown",
   "metadata": {},
   "source": [
    "# Часть 1. Приоритизация гипотез."
   ]
  },
  {
   "cell_type": "code",
   "execution_count": 3,
   "metadata": {},
   "outputs": [],
   "source": [
    "data_pg = pd.read_csv('/datasets/hypothesis.csv')"
   ]
  },
  {
   "cell_type": "code",
   "execution_count": 4,
   "metadata": {
    "scrolled": false
   },
   "outputs": [
    {
     "name": "stdout",
     "output_type": "stream",
     "text": [
      "<class 'pandas.core.frame.DataFrame'>\n",
      "RangeIndex: 9 entries, 0 to 8\n",
      "Data columns (total 5 columns):\n",
      "Hypothesis    9 non-null object\n",
      "Reach         9 non-null int64\n",
      "Impact        9 non-null int64\n",
      "Confidence    9 non-null int64\n",
      "Efforts       9 non-null int64\n",
      "dtypes: int64(4), object(1)\n",
      "memory usage: 488.0+ bytes\n"
     ]
    },
    {
     "data": {
      "text/plain": [
       "None"
      ]
     },
     "metadata": {},
     "output_type": "display_data"
    },
    {
     "data": {
      "text/html": [
       "<div>\n",
       "<style scoped>\n",
       "    .dataframe tbody tr th:only-of-type {\n",
       "        vertical-align: middle;\n",
       "    }\n",
       "\n",
       "    .dataframe tbody tr th {\n",
       "        vertical-align: top;\n",
       "    }\n",
       "\n",
       "    .dataframe thead th {\n",
       "        text-align: right;\n",
       "    }\n",
       "</style>\n",
       "<table border=\"1\" class=\"dataframe\">\n",
       "  <thead>\n",
       "    <tr style=\"text-align: right;\">\n",
       "      <th></th>\n",
       "      <th>Hypothesis</th>\n",
       "      <th>Reach</th>\n",
       "      <th>Impact</th>\n",
       "      <th>Confidence</th>\n",
       "      <th>Efforts</th>\n",
       "    </tr>\n",
       "  </thead>\n",
       "  <tbody>\n",
       "    <tr>\n",
       "      <td>count</td>\n",
       "      <td>9</td>\n",
       "      <td>9.000000</td>\n",
       "      <td>9.000000</td>\n",
       "      <td>9.000000</td>\n",
       "      <td>9.000000</td>\n",
       "    </tr>\n",
       "    <tr>\n",
       "      <td>unique</td>\n",
       "      <td>9</td>\n",
       "      <td>NaN</td>\n",
       "      <td>NaN</td>\n",
       "      <td>NaN</td>\n",
       "      <td>NaN</td>\n",
       "    </tr>\n",
       "    <tr>\n",
       "      <td>top</td>\n",
       "      <td>Запустить собственную службу доставки, что сократит срок доставки заказов</td>\n",
       "      <td>NaN</td>\n",
       "      <td>NaN</td>\n",
       "      <td>NaN</td>\n",
       "      <td>NaN</td>\n",
       "    </tr>\n",
       "    <tr>\n",
       "      <td>freq</td>\n",
       "      <td>1</td>\n",
       "      <td>NaN</td>\n",
       "      <td>NaN</td>\n",
       "      <td>NaN</td>\n",
       "      <td>NaN</td>\n",
       "    </tr>\n",
       "    <tr>\n",
       "      <td>mean</td>\n",
       "      <td>NaN</td>\n",
       "      <td>4.777778</td>\n",
       "      <td>4.777778</td>\n",
       "      <td>5.555556</td>\n",
       "      <td>4.888889</td>\n",
       "    </tr>\n",
       "    <tr>\n",
       "      <td>std</td>\n",
       "      <td>NaN</td>\n",
       "      <td>3.153481</td>\n",
       "      <td>3.192874</td>\n",
       "      <td>3.045944</td>\n",
       "      <td>2.803767</td>\n",
       "    </tr>\n",
       "    <tr>\n",
       "      <td>min</td>\n",
       "      <td>NaN</td>\n",
       "      <td>1.000000</td>\n",
       "      <td>1.000000</td>\n",
       "      <td>1.000000</td>\n",
       "      <td>1.000000</td>\n",
       "    </tr>\n",
       "    <tr>\n",
       "      <td>25%</td>\n",
       "      <td>NaN</td>\n",
       "      <td>3.000000</td>\n",
       "      <td>3.000000</td>\n",
       "      <td>3.000000</td>\n",
       "      <td>3.000000</td>\n",
       "    </tr>\n",
       "    <tr>\n",
       "      <td>50%</td>\n",
       "      <td>NaN</td>\n",
       "      <td>3.000000</td>\n",
       "      <td>3.000000</td>\n",
       "      <td>7.000000</td>\n",
       "      <td>5.000000</td>\n",
       "    </tr>\n",
       "    <tr>\n",
       "      <td>75%</td>\n",
       "      <td>NaN</td>\n",
       "      <td>8.000000</td>\n",
       "      <td>7.000000</td>\n",
       "      <td>8.000000</td>\n",
       "      <td>6.000000</td>\n",
       "    </tr>\n",
       "    <tr>\n",
       "      <td>max</td>\n",
       "      <td>NaN</td>\n",
       "      <td>10.000000</td>\n",
       "      <td>10.000000</td>\n",
       "      <td>9.000000</td>\n",
       "      <td>10.000000</td>\n",
       "    </tr>\n",
       "  </tbody>\n",
       "</table>\n",
       "</div>"
      ],
      "text/plain": [
       "                                                                       Hypothesis  \\\n",
       "count                                                                           9   \n",
       "unique                                                                          9   \n",
       "top     Запустить собственную службу доставки, что сократит срок доставки заказов   \n",
       "freq                                                                            1   \n",
       "mean                                                                          NaN   \n",
       "std                                                                           NaN   \n",
       "min                                                                           NaN   \n",
       "25%                                                                           NaN   \n",
       "50%                                                                           NaN   \n",
       "75%                                                                           NaN   \n",
       "max                                                                           NaN   \n",
       "\n",
       "            Reach     Impact  Confidence    Efforts  \n",
       "count    9.000000   9.000000    9.000000   9.000000  \n",
       "unique        NaN        NaN         NaN        NaN  \n",
       "top           NaN        NaN         NaN        NaN  \n",
       "freq          NaN        NaN         NaN        NaN  \n",
       "mean     4.777778   4.777778    5.555556   4.888889  \n",
       "std      3.153481   3.192874    3.045944   2.803767  \n",
       "min      1.000000   1.000000    1.000000   1.000000  \n",
       "25%      3.000000   3.000000    3.000000   3.000000  \n",
       "50%      3.000000   3.000000    7.000000   5.000000  \n",
       "75%      8.000000   7.000000    8.000000   6.000000  \n",
       "max     10.000000  10.000000    9.000000  10.000000  "
      ]
     },
     "metadata": {},
     "output_type": "display_data"
    }
   ],
   "source": [
    "display(data_pg.info())\n",
    "display(data_pg.describe(include='all'))\n",
    "# for columns in data_pg.columns:\n",
    "#     display(columns)\n",
    "#     display(data_pg[columns].unique())\n",
    "#     display(data_pg[columns].value_counts())"
   ]
  },
  {
   "cell_type": "code",
   "execution_count": 5,
   "metadata": {},
   "outputs": [
    {
     "data": {
      "text/html": [
       "<div>\n",
       "<style scoped>\n",
       "    .dataframe tbody tr th:only-of-type {\n",
       "        vertical-align: middle;\n",
       "    }\n",
       "\n",
       "    .dataframe tbody tr th {\n",
       "        vertical-align: top;\n",
       "    }\n",
       "\n",
       "    .dataframe thead th {\n",
       "        text-align: right;\n",
       "    }\n",
       "</style>\n",
       "<table border=\"1\" class=\"dataframe\">\n",
       "  <thead>\n",
       "    <tr style=\"text-align: right;\">\n",
       "      <th></th>\n",
       "      <th>Hypothesis</th>\n",
       "      <th>Reach</th>\n",
       "      <th>Impact</th>\n",
       "      <th>Confidence</th>\n",
       "      <th>Efforts</th>\n",
       "    </tr>\n",
       "  </thead>\n",
       "  <tbody>\n",
       "    <tr>\n",
       "      <td>0</td>\n",
       "      <td>Добавить два новых канала привлечения трафика, что позволит привлекать на 30% больше пользователей</td>\n",
       "      <td>3</td>\n",
       "      <td>10</td>\n",
       "      <td>8</td>\n",
       "      <td>6</td>\n",
       "    </tr>\n",
       "    <tr>\n",
       "      <td>1</td>\n",
       "      <td>Запустить собственную службу доставки, что сократит срок доставки заказов</td>\n",
       "      <td>2</td>\n",
       "      <td>5</td>\n",
       "      <td>4</td>\n",
       "      <td>10</td>\n",
       "    </tr>\n",
       "    <tr>\n",
       "      <td>2</td>\n",
       "      <td>Добавить блоки рекомендаций товаров на сайт интернет магазина, чтобы повысить конверсию и средний чек заказа</td>\n",
       "      <td>8</td>\n",
       "      <td>3</td>\n",
       "      <td>7</td>\n",
       "      <td>3</td>\n",
       "    </tr>\n",
       "    <tr>\n",
       "      <td>3</td>\n",
       "      <td>Изменить структура категорий, что увеличит конверсию, т.к. пользователи быстрее найдут нужный товар</td>\n",
       "      <td>8</td>\n",
       "      <td>3</td>\n",
       "      <td>3</td>\n",
       "      <td>8</td>\n",
       "    </tr>\n",
       "    <tr>\n",
       "      <td>4</td>\n",
       "      <td>Изменить цвет фона главной страницы, чтобы увеличить вовлеченность пользователей</td>\n",
       "      <td>3</td>\n",
       "      <td>1</td>\n",
       "      <td>1</td>\n",
       "      <td>1</td>\n",
       "    </tr>\n",
       "    <tr>\n",
       "      <td>5</td>\n",
       "      <td>Добавить страницу отзывов клиентов о магазине, что позволит увеличить количество заказов</td>\n",
       "      <td>3</td>\n",
       "      <td>2</td>\n",
       "      <td>2</td>\n",
       "      <td>3</td>\n",
       "    </tr>\n",
       "    <tr>\n",
       "      <td>6</td>\n",
       "      <td>Показать на главной странице баннеры с актуальными акциями и распродажами, чтобы увеличить конверсию</td>\n",
       "      <td>5</td>\n",
       "      <td>3</td>\n",
       "      <td>8</td>\n",
       "      <td>3</td>\n",
       "    </tr>\n",
       "    <tr>\n",
       "      <td>7</td>\n",
       "      <td>Добавить форму подписки на все основные страницы, чтобы собрать базу клиентов для email-рассылок</td>\n",
       "      <td>10</td>\n",
       "      <td>7</td>\n",
       "      <td>8</td>\n",
       "      <td>5</td>\n",
       "    </tr>\n",
       "    <tr>\n",
       "      <td>8</td>\n",
       "      <td>Запустить акцию, дающую скидку на товар в день рождения</td>\n",
       "      <td>1</td>\n",
       "      <td>9</td>\n",
       "      <td>9</td>\n",
       "      <td>5</td>\n",
       "    </tr>\n",
       "  </tbody>\n",
       "</table>\n",
       "</div>"
      ],
      "text/plain": [
       "                                                                                                     Hypothesis  \\\n",
       "0            Добавить два новых канала привлечения трафика, что позволит привлекать на 30% больше пользователей   \n",
       "1                                     Запустить собственную службу доставки, что сократит срок доставки заказов   \n",
       "2  Добавить блоки рекомендаций товаров на сайт интернет магазина, чтобы повысить конверсию и средний чек заказа   \n",
       "3           Изменить структура категорий, что увеличит конверсию, т.к. пользователи быстрее найдут нужный товар   \n",
       "4                              Изменить цвет фона главной страницы, чтобы увеличить вовлеченность пользователей   \n",
       "5                      Добавить страницу отзывов клиентов о магазине, что позволит увеличить количество заказов   \n",
       "6          Показать на главной странице баннеры с актуальными акциями и распродажами, чтобы увеличить конверсию   \n",
       "7              Добавить форму подписки на все основные страницы, чтобы собрать базу клиентов для email-рассылок   \n",
       "8                                                       Запустить акцию, дающую скидку на товар в день рождения   \n",
       "\n",
       "   Reach  Impact  Confidence  Efforts  \n",
       "0      3      10           8        6  \n",
       "1      2       5           4       10  \n",
       "2      8       3           7        3  \n",
       "3      8       3           3        8  \n",
       "4      3       1           1        1  \n",
       "5      3       2           2        3  \n",
       "6      5       3           8        3  \n",
       "7     10       7           8        5  \n",
       "8      1       9           9        5  "
      ]
     },
     "execution_count": 5,
     "metadata": {},
     "output_type": "execute_result"
    }
   ],
   "source": [
    "data_pg"
   ]
  },
  {
   "cell_type": "code",
   "execution_count": 6,
   "metadata": {},
   "outputs": [
    {
     "data": {
      "text/html": [
       "<style  type=\"text/css\" >\n",
       "    #T_648c29b0_e7c0_11ea_bede_02420a39234frow0_col1 {\n",
       "            width:  10em;\n",
       "             height:  80%;\n",
       "            background:  linear-gradient(90deg,#66cc99 100.0%, transparent 100.0%);\n",
       "        }    #T_648c29b0_e7c0_11ea_bede_02420a39234frow0_col2 {\n",
       "            width:  10em;\n",
       "             height:  80%;\n",
       "            background:  linear-gradient(90deg,#66cc99 67.1%, transparent 67.1%);\n",
       "        }    #T_648c29b0_e7c0_11ea_bede_02420a39234frow1_col1 {\n",
       "            width:  10em;\n",
       "             height:  80%;\n",
       "            background:  linear-gradient(90deg,#66cc99 48.6%, transparent 48.6%);\n",
       "        }    #T_648c29b0_e7c0_11ea_bede_02420a39234frow1_col2 {\n",
       "            width:  10em;\n",
       "             height:  80%;\n",
       "            background:  linear-gradient(90deg,#66cc99 39.5%, transparent 39.5%);\n",
       "        }    #T_648c29b0_e7c0_11ea_bede_02420a39234frow2_col1 {\n",
       "            width:  10em;\n",
       "             height:  80%;\n",
       "            background:  linear-gradient(90deg,#66cc99 33.9%, transparent 33.9%);\n",
       "        }    #T_648c29b0_e7c0_11ea_bede_02420a39234frow2_col2 {\n",
       "            width:  10em;\n",
       "             height:  80%;\n",
       "            background:  linear-gradient(90deg,#66cc99 80.9%, transparent 80.9%);\n",
       "        }    #T_648c29b0_e7c0_11ea_bede_02420a39234frow3_col1 {\n",
       "            width:  10em;\n",
       "             height:  80%;\n",
       "            background:  linear-gradient(90deg,#66cc99 33.9%, transparent 33.9%);\n",
       "        }    #T_648c29b0_e7c0_11ea_bede_02420a39234frow3_col2 {\n",
       "            width:  10em;\n",
       "             height:  80%;\n",
       "            background:  linear-gradient(90deg,#66cc99 46.1%, transparent 46.1%);\n",
       "        }    #T_648c29b0_e7c0_11ea_bede_02420a39234frow4_col1 {\n",
       "            width:  10em;\n",
       "             height:  80%;\n",
       "            background:  linear-gradient(90deg,#66cc99 12.1%, transparent 12.1%);\n",
       "        }    #T_648c29b0_e7c0_11ea_bede_02420a39234frow4_col2 {\n",
       "            width:  10em;\n",
       "             height:  80%;\n",
       "            background:  linear-gradient(90deg,#66cc99 100.0%, transparent 100.0%);\n",
       "        }    #T_648c29b0_e7c0_11ea_bede_02420a39234frow5_col1 {\n",
       "            width:  10em;\n",
       "             height:  80%;\n",
       "            background:  linear-gradient(90deg,#66cc99 5.5%, transparent 5.5%);\n",
       "        }    #T_648c29b0_e7c0_11ea_bede_02420a39234frow5_col2 {\n",
       "            width:  10em;\n",
       "             height:  80%;\n",
       "            background:  linear-gradient(90deg,#66cc99 0.7%, transparent 0.7%);\n",
       "        }    #T_648c29b0_e7c0_11ea_bede_02420a39234frow6_col1 {\n",
       "            width:  10em;\n",
       "             height:  80%;\n",
       "            background:  linear-gradient(90deg,#66cc99 0.9%, transparent 0.9%);\n",
       "        }    #T_648c29b0_e7c0_11ea_bede_02420a39234frow6_col2 {\n",
       "            width:  10em;\n",
       "             height:  80%;\n",
       "            background:  linear-gradient(90deg,#66cc99 6.6%, transparent 6.6%);\n",
       "        }    #T_648c29b0_e7c0_11ea_bede_02420a39234frow7_col1 {\n",
       "            width:  10em;\n",
       "             height:  80%;\n",
       "            background:  linear-gradient(90deg,#66cc99 0.9%, transparent 0.9%);\n",
       "        }    #T_648c29b0_e7c0_11ea_bede_02420a39234frow7_col2 {\n",
       "            width:  10em;\n",
       "             height:  80%;\n",
       "            background:  linear-gradient(90deg,#66cc99 2.0%, transparent 2.0%);\n",
       "        }    #T_648c29b0_e7c0_11ea_bede_02420a39234frow8_col1 {\n",
       "            width:  10em;\n",
       "             height:  80%;\n",
       "        }    #T_648c29b0_e7c0_11ea_bede_02420a39234frow8_col2 {\n",
       "            width:  10em;\n",
       "             height:  80%;\n",
       "        }</style><table id=\"T_648c29b0_e7c0_11ea_bede_02420a39234f\" ><thead>    <tr>        <th class=\"blank level0\" ></th>        <th class=\"col_heading level0 col0\" >Hypothesis</th>        <th class=\"col_heading level0 col1\" >RICE</th>        <th class=\"col_heading level0 col2\" >ICE</th>    </tr></thead><tbody>\n",
       "                <tr>\n",
       "                        <th id=\"T_648c29b0_e7c0_11ea_bede_02420a39234flevel0_row0\" class=\"row_heading level0 row0\" >7</th>\n",
       "                        <td id=\"T_648c29b0_e7c0_11ea_bede_02420a39234frow0_col0\" class=\"data row0 col0\" >Добавить форму подписки на все основные страницы, чтобы собрать базу клиентов для email-рассылок</td>\n",
       "                        <td id=\"T_648c29b0_e7c0_11ea_bede_02420a39234frow0_col1\" class=\"data row0 col1\" >112</td>\n",
       "                        <td id=\"T_648c29b0_e7c0_11ea_bede_02420a39234frow0_col2\" class=\"data row0 col2\" >11.2</td>\n",
       "            </tr>\n",
       "            <tr>\n",
       "                        <th id=\"T_648c29b0_e7c0_11ea_bede_02420a39234flevel0_row1\" class=\"row_heading level0 row1\" >2</th>\n",
       "                        <td id=\"T_648c29b0_e7c0_11ea_bede_02420a39234frow1_col0\" class=\"data row1 col0\" >Добавить блоки рекомендаций товаров на сайт интернет магазина, чтобы повысить конверсию и средний чек заказа</td>\n",
       "                        <td id=\"T_648c29b0_e7c0_11ea_bede_02420a39234frow1_col1\" class=\"data row1 col1\" >56</td>\n",
       "                        <td id=\"T_648c29b0_e7c0_11ea_bede_02420a39234frow1_col2\" class=\"data row1 col2\" >7</td>\n",
       "            </tr>\n",
       "            <tr>\n",
       "                        <th id=\"T_648c29b0_e7c0_11ea_bede_02420a39234flevel0_row2\" class=\"row_heading level0 row2\" >0</th>\n",
       "                        <td id=\"T_648c29b0_e7c0_11ea_bede_02420a39234frow2_col0\" class=\"data row2 col0\" >Добавить два новых канала привлечения трафика, что позволит привлекать на 30% больше пользователей</td>\n",
       "                        <td id=\"T_648c29b0_e7c0_11ea_bede_02420a39234frow2_col1\" class=\"data row2 col1\" >40</td>\n",
       "                        <td id=\"T_648c29b0_e7c0_11ea_bede_02420a39234frow2_col2\" class=\"data row2 col2\" >13.3</td>\n",
       "            </tr>\n",
       "            <tr>\n",
       "                        <th id=\"T_648c29b0_e7c0_11ea_bede_02420a39234flevel0_row3\" class=\"row_heading level0 row3\" >6</th>\n",
       "                        <td id=\"T_648c29b0_e7c0_11ea_bede_02420a39234frow3_col0\" class=\"data row3 col0\" >Показать на главной странице баннеры с актуальными акциями и распродажами, чтобы увеличить конверсию</td>\n",
       "                        <td id=\"T_648c29b0_e7c0_11ea_bede_02420a39234frow3_col1\" class=\"data row3 col1\" >40</td>\n",
       "                        <td id=\"T_648c29b0_e7c0_11ea_bede_02420a39234frow3_col2\" class=\"data row3 col2\" >8</td>\n",
       "            </tr>\n",
       "            <tr>\n",
       "                        <th id=\"T_648c29b0_e7c0_11ea_bede_02420a39234flevel0_row4\" class=\"row_heading level0 row4\" >8</th>\n",
       "                        <td id=\"T_648c29b0_e7c0_11ea_bede_02420a39234frow4_col0\" class=\"data row4 col0\" >Запустить акцию, дающую скидку на товар в день рождения</td>\n",
       "                        <td id=\"T_648c29b0_e7c0_11ea_bede_02420a39234frow4_col1\" class=\"data row4 col1\" >16.2</td>\n",
       "                        <td id=\"T_648c29b0_e7c0_11ea_bede_02420a39234frow4_col2\" class=\"data row4 col2\" >16.2</td>\n",
       "            </tr>\n",
       "            <tr>\n",
       "                        <th id=\"T_648c29b0_e7c0_11ea_bede_02420a39234flevel0_row5\" class=\"row_heading level0 row5\" >3</th>\n",
       "                        <td id=\"T_648c29b0_e7c0_11ea_bede_02420a39234frow5_col0\" class=\"data row5 col0\" >Изменить структура категорий, что увеличит конверсию, т.к. пользователи быстрее найдут нужный товар</td>\n",
       "                        <td id=\"T_648c29b0_e7c0_11ea_bede_02420a39234frow5_col1\" class=\"data row5 col1\" >9</td>\n",
       "                        <td id=\"T_648c29b0_e7c0_11ea_bede_02420a39234frow5_col2\" class=\"data row5 col2\" >1.1</td>\n",
       "            </tr>\n",
       "            <tr>\n",
       "                        <th id=\"T_648c29b0_e7c0_11ea_bede_02420a39234flevel0_row6\" class=\"row_heading level0 row6\" >1</th>\n",
       "                        <td id=\"T_648c29b0_e7c0_11ea_bede_02420a39234frow6_col0\" class=\"data row6 col0\" >Запустить собственную службу доставки, что сократит срок доставки заказов</td>\n",
       "                        <td id=\"T_648c29b0_e7c0_11ea_bede_02420a39234frow6_col1\" class=\"data row6 col1\" >4</td>\n",
       "                        <td id=\"T_648c29b0_e7c0_11ea_bede_02420a39234frow6_col2\" class=\"data row6 col2\" >2</td>\n",
       "            </tr>\n",
       "            <tr>\n",
       "                        <th id=\"T_648c29b0_e7c0_11ea_bede_02420a39234flevel0_row7\" class=\"row_heading level0 row7\" >5</th>\n",
       "                        <td id=\"T_648c29b0_e7c0_11ea_bede_02420a39234frow7_col0\" class=\"data row7 col0\" >Добавить страницу отзывов клиентов о магазине, что позволит увеличить количество заказов</td>\n",
       "                        <td id=\"T_648c29b0_e7c0_11ea_bede_02420a39234frow7_col1\" class=\"data row7 col1\" >4</td>\n",
       "                        <td id=\"T_648c29b0_e7c0_11ea_bede_02420a39234frow7_col2\" class=\"data row7 col2\" >1.3</td>\n",
       "            </tr>\n",
       "            <tr>\n",
       "                        <th id=\"T_648c29b0_e7c0_11ea_bede_02420a39234flevel0_row8\" class=\"row_heading level0 row8\" >4</th>\n",
       "                        <td id=\"T_648c29b0_e7c0_11ea_bede_02420a39234frow8_col0\" class=\"data row8 col0\" >Изменить цвет фона главной страницы, чтобы увеличить вовлеченность пользователей</td>\n",
       "                        <td id=\"T_648c29b0_e7c0_11ea_bede_02420a39234frow8_col1\" class=\"data row8 col1\" >3</td>\n",
       "                        <td id=\"T_648c29b0_e7c0_11ea_bede_02420a39234frow8_col2\" class=\"data row8 col2\" >1</td>\n",
       "            </tr>\n",
       "    </tbody></table>"
      ],
      "text/plain": [
       "<pandas.io.formats.style.Styler at 0x7fba2eb02dd0>"
      ]
     },
     "execution_count": 6,
     "metadata": {},
     "output_type": "execute_result"
    }
   ],
   "source": [
    "#высчитываем ICE и RICE\n",
    "data_pg['ICE'] = round(data_pg['Impact'] * data_pg['Confidence'] / data_pg['Efforts'], 1)\n",
    "data_pg['RICE'] = data_pg['Reach'] * data_pg['Impact'] * data_pg['Confidence'] / data_pg['Efforts']\n",
    "data_pg[['Hypothesis', 'RICE', 'ICE']].sort_values(by='RICE',\n",
    "                                                   ascending=False).style.bar(subset=['RICE', 'ICE'], color='#66cc99')"
   ]
  },
  {
   "cell_type": "markdown",
   "metadata": {},
   "source": [
    "Различие итогов исходят из-за того, что в RICE учитывается то, скольких пользователей затронет изменение.\n",
    "Следовательно, в данной задаче необходимо ориентироваться на RICE. Самая перспективная гипотеза - добавление формы подписки на все основные страницы.\n",
    "Так же можно добавить блоки рекомендаций товаров на сайт интернет магазина, добавить два новых канала привлечения трафика, показать на главной странице баннеры с актуальными акциями и распродажами."
   ]
  },
  {
   "cell_type": "markdown",
   "metadata": {},
   "source": [
    "# Часть 2. Анализ A/B-теста"
   ]
  },
  {
   "cell_type": "markdown",
   "metadata": {},
   "source": [
    "# Предобработка данных"
   ]
  },
  {
   "cell_type": "code",
   "execution_count": 7,
   "metadata": {},
   "outputs": [],
   "source": [
    "data_orders = pd.read_csv('/datasets/orders.csv')\n",
    "data_visitors = pd.read_csv('/datasets/visitors.csv')"
   ]
  },
  {
   "cell_type": "code",
   "execution_count": 8,
   "metadata": {},
   "outputs": [
    {
     "data": {
      "text/html": [
       "<div>\n",
       "<style scoped>\n",
       "    .dataframe tbody tr th:only-of-type {\n",
       "        vertical-align: middle;\n",
       "    }\n",
       "\n",
       "    .dataframe tbody tr th {\n",
       "        vertical-align: top;\n",
       "    }\n",
       "\n",
       "    .dataframe thead th {\n",
       "        text-align: right;\n",
       "    }\n",
       "</style>\n",
       "<table border=\"1\" class=\"dataframe\">\n",
       "  <thead>\n",
       "    <tr style=\"text-align: right;\">\n",
       "      <th></th>\n",
       "      <th>date</th>\n",
       "      <th>group</th>\n",
       "      <th>visitors</th>\n",
       "    </tr>\n",
       "  </thead>\n",
       "  <tbody>\n",
       "    <tr>\n",
       "      <td>0</td>\n",
       "      <td>2019-08-01</td>\n",
       "      <td>A</td>\n",
       "      <td>719</td>\n",
       "    </tr>\n",
       "    <tr>\n",
       "      <td>1</td>\n",
       "      <td>2019-08-02</td>\n",
       "      <td>A</td>\n",
       "      <td>619</td>\n",
       "    </tr>\n",
       "    <tr>\n",
       "      <td>2</td>\n",
       "      <td>2019-08-03</td>\n",
       "      <td>A</td>\n",
       "      <td>507</td>\n",
       "    </tr>\n",
       "    <tr>\n",
       "      <td>3</td>\n",
       "      <td>2019-08-04</td>\n",
       "      <td>A</td>\n",
       "      <td>717</td>\n",
       "    </tr>\n",
       "    <tr>\n",
       "      <td>4</td>\n",
       "      <td>2019-08-05</td>\n",
       "      <td>A</td>\n",
       "      <td>756</td>\n",
       "    </tr>\n",
       "    <tr>\n",
       "      <td>...</td>\n",
       "      <td>...</td>\n",
       "      <td>...</td>\n",
       "      <td>...</td>\n",
       "    </tr>\n",
       "    <tr>\n",
       "      <td>57</td>\n",
       "      <td>2019-08-27</td>\n",
       "      <td>B</td>\n",
       "      <td>720</td>\n",
       "    </tr>\n",
       "    <tr>\n",
       "      <td>58</td>\n",
       "      <td>2019-08-28</td>\n",
       "      <td>B</td>\n",
       "      <td>654</td>\n",
       "    </tr>\n",
       "    <tr>\n",
       "      <td>59</td>\n",
       "      <td>2019-08-29</td>\n",
       "      <td>B</td>\n",
       "      <td>531</td>\n",
       "    </tr>\n",
       "    <tr>\n",
       "      <td>60</td>\n",
       "      <td>2019-08-30</td>\n",
       "      <td>B</td>\n",
       "      <td>490</td>\n",
       "    </tr>\n",
       "    <tr>\n",
       "      <td>61</td>\n",
       "      <td>2019-08-31</td>\n",
       "      <td>B</td>\n",
       "      <td>718</td>\n",
       "    </tr>\n",
       "  </tbody>\n",
       "</table>\n",
       "<p>62 rows × 3 columns</p>\n",
       "</div>"
      ],
      "text/plain": [
       "          date group  visitors\n",
       "0   2019-08-01     A       719\n",
       "1   2019-08-02     A       619\n",
       "2   2019-08-03     A       507\n",
       "3   2019-08-04     A       717\n",
       "4   2019-08-05     A       756\n",
       "..         ...   ...       ...\n",
       "57  2019-08-27     B       720\n",
       "58  2019-08-28     B       654\n",
       "59  2019-08-29     B       531\n",
       "60  2019-08-30     B       490\n",
       "61  2019-08-31     B       718\n",
       "\n",
       "[62 rows x 3 columns]"
      ]
     },
     "execution_count": 8,
     "metadata": {},
     "output_type": "execute_result"
    }
   ],
   "source": [
    "data_visitors"
   ]
  },
  {
   "cell_type": "code",
   "execution_count": 9,
   "metadata": {},
   "outputs": [
    {
     "data": {
      "text/html": [
       "<div>\n",
       "<style scoped>\n",
       "    .dataframe tbody tr th:only-of-type {\n",
       "        vertical-align: middle;\n",
       "    }\n",
       "\n",
       "    .dataframe tbody tr th {\n",
       "        vertical-align: top;\n",
       "    }\n",
       "\n",
       "    .dataframe thead th {\n",
       "        text-align: right;\n",
       "    }\n",
       "</style>\n",
       "<table border=\"1\" class=\"dataframe\">\n",
       "  <thead>\n",
       "    <tr style=\"text-align: right;\">\n",
       "      <th></th>\n",
       "      <th>transactionId</th>\n",
       "      <th>visitorId</th>\n",
       "      <th>date</th>\n",
       "      <th>revenue</th>\n",
       "      <th>group</th>\n",
       "    </tr>\n",
       "  </thead>\n",
       "  <tbody>\n",
       "    <tr>\n",
       "      <td>0</td>\n",
       "      <td>3667963787</td>\n",
       "      <td>3312258926</td>\n",
       "      <td>2019-08-15</td>\n",
       "      <td>1650</td>\n",
       "      <td>B</td>\n",
       "    </tr>\n",
       "    <tr>\n",
       "      <td>1</td>\n",
       "      <td>2804400009</td>\n",
       "      <td>3642806036</td>\n",
       "      <td>2019-08-15</td>\n",
       "      <td>730</td>\n",
       "      <td>B</td>\n",
       "    </tr>\n",
       "    <tr>\n",
       "      <td>2</td>\n",
       "      <td>2961555356</td>\n",
       "      <td>4069496402</td>\n",
       "      <td>2019-08-15</td>\n",
       "      <td>400</td>\n",
       "      <td>A</td>\n",
       "    </tr>\n",
       "    <tr>\n",
       "      <td>3</td>\n",
       "      <td>3797467345</td>\n",
       "      <td>1196621759</td>\n",
       "      <td>2019-08-15</td>\n",
       "      <td>9759</td>\n",
       "      <td>B</td>\n",
       "    </tr>\n",
       "    <tr>\n",
       "      <td>4</td>\n",
       "      <td>2282983706</td>\n",
       "      <td>2322279887</td>\n",
       "      <td>2019-08-15</td>\n",
       "      <td>2308</td>\n",
       "      <td>B</td>\n",
       "    </tr>\n",
       "    <tr>\n",
       "      <td>...</td>\n",
       "      <td>...</td>\n",
       "      <td>...</td>\n",
       "      <td>...</td>\n",
       "      <td>...</td>\n",
       "      <td>...</td>\n",
       "    </tr>\n",
       "    <tr>\n",
       "      <td>1192</td>\n",
       "      <td>2662137336</td>\n",
       "      <td>3733762160</td>\n",
       "      <td>2019-08-14</td>\n",
       "      <td>6490</td>\n",
       "      <td>B</td>\n",
       "    </tr>\n",
       "    <tr>\n",
       "      <td>1193</td>\n",
       "      <td>2203539145</td>\n",
       "      <td>370388673</td>\n",
       "      <td>2019-08-14</td>\n",
       "      <td>3190</td>\n",
       "      <td>A</td>\n",
       "    </tr>\n",
       "    <tr>\n",
       "      <td>1194</td>\n",
       "      <td>1807773912</td>\n",
       "      <td>573423106</td>\n",
       "      <td>2019-08-14</td>\n",
       "      <td>10550</td>\n",
       "      <td>A</td>\n",
       "    </tr>\n",
       "    <tr>\n",
       "      <td>1195</td>\n",
       "      <td>1947021204</td>\n",
       "      <td>1614305549</td>\n",
       "      <td>2019-08-14</td>\n",
       "      <td>100</td>\n",
       "      <td>A</td>\n",
       "    </tr>\n",
       "    <tr>\n",
       "      <td>1196</td>\n",
       "      <td>3936777065</td>\n",
       "      <td>2108080724</td>\n",
       "      <td>2019-08-15</td>\n",
       "      <td>202740</td>\n",
       "      <td>B</td>\n",
       "    </tr>\n",
       "  </tbody>\n",
       "</table>\n",
       "<p>1197 rows × 5 columns</p>\n",
       "</div>"
      ],
      "text/plain": [
       "      transactionId   visitorId        date  revenue group\n",
       "0        3667963787  3312258926  2019-08-15     1650     B\n",
       "1        2804400009  3642806036  2019-08-15      730     B\n",
       "2        2961555356  4069496402  2019-08-15      400     A\n",
       "3        3797467345  1196621759  2019-08-15     9759     B\n",
       "4        2282983706  2322279887  2019-08-15     2308     B\n",
       "...             ...         ...         ...      ...   ...\n",
       "1192     2662137336  3733762160  2019-08-14     6490     B\n",
       "1193     2203539145   370388673  2019-08-14     3190     A\n",
       "1194     1807773912   573423106  2019-08-14    10550     A\n",
       "1195     1947021204  1614305549  2019-08-14      100     A\n",
       "1196     3936777065  2108080724  2019-08-15   202740     B\n",
       "\n",
       "[1197 rows x 5 columns]"
      ]
     },
     "execution_count": 9,
     "metadata": {},
     "output_type": "execute_result"
    }
   ],
   "source": [
    "data_orders"
   ]
  },
  {
   "cell_type": "code",
   "execution_count": 10,
   "metadata": {
    "scrolled": true
   },
   "outputs": [
    {
     "name": "stdout",
     "output_type": "stream",
     "text": [
      "---------> orders\n",
      "<class 'pandas.core.frame.DataFrame'>\n",
      "RangeIndex: 1197 entries, 0 to 1196\n",
      "Data columns (total 5 columns):\n",
      "transactionId    1197 non-null int64\n",
      "visitorId        1197 non-null int64\n",
      "date             1197 non-null object\n",
      "revenue          1197 non-null int64\n",
      "group            1197 non-null object\n",
      "dtypes: int64(3), object(2)\n",
      "memory usage: 46.9+ KB\n"
     ]
    },
    {
     "data": {
      "text/plain": [
       "None"
      ]
     },
     "metadata": {},
     "output_type": "display_data"
    },
    {
     "data": {
      "text/html": [
       "<div>\n",
       "<style scoped>\n",
       "    .dataframe tbody tr th:only-of-type {\n",
       "        vertical-align: middle;\n",
       "    }\n",
       "\n",
       "    .dataframe tbody tr th {\n",
       "        vertical-align: top;\n",
       "    }\n",
       "\n",
       "    .dataframe thead th {\n",
       "        text-align: right;\n",
       "    }\n",
       "</style>\n",
       "<table border=\"1\" class=\"dataframe\">\n",
       "  <thead>\n",
       "    <tr style=\"text-align: right;\">\n",
       "      <th></th>\n",
       "      <th>transactionId</th>\n",
       "      <th>visitorId</th>\n",
       "      <th>date</th>\n",
       "      <th>revenue</th>\n",
       "      <th>group</th>\n",
       "    </tr>\n",
       "  </thead>\n",
       "  <tbody>\n",
       "    <tr>\n",
       "      <td>count</td>\n",
       "      <td>1.197000e+03</td>\n",
       "      <td>1.197000e+03</td>\n",
       "      <td>1197</td>\n",
       "      <td>1.197000e+03</td>\n",
       "      <td>1197</td>\n",
       "    </tr>\n",
       "    <tr>\n",
       "      <td>unique</td>\n",
       "      <td>NaN</td>\n",
       "      <td>NaN</td>\n",
       "      <td>31</td>\n",
       "      <td>NaN</td>\n",
       "      <td>2</td>\n",
       "    </tr>\n",
       "    <tr>\n",
       "      <td>top</td>\n",
       "      <td>NaN</td>\n",
       "      <td>NaN</td>\n",
       "      <td>2019-08-05</td>\n",
       "      <td>NaN</td>\n",
       "      <td>B</td>\n",
       "    </tr>\n",
       "    <tr>\n",
       "      <td>freq</td>\n",
       "      <td>NaN</td>\n",
       "      <td>NaN</td>\n",
       "      <td>48</td>\n",
       "      <td>NaN</td>\n",
       "      <td>640</td>\n",
       "    </tr>\n",
       "    <tr>\n",
       "      <td>mean</td>\n",
       "      <td>2.155621e+09</td>\n",
       "      <td>2.165960e+09</td>\n",
       "      <td>NaN</td>\n",
       "      <td>8.348006e+03</td>\n",
       "      <td>NaN</td>\n",
       "    </tr>\n",
       "    <tr>\n",
       "      <td>std</td>\n",
       "      <td>1.229085e+09</td>\n",
       "      <td>1.236014e+09</td>\n",
       "      <td>NaN</td>\n",
       "      <td>3.919113e+04</td>\n",
       "      <td>NaN</td>\n",
       "    </tr>\n",
       "    <tr>\n",
       "      <td>min</td>\n",
       "      <td>1.062393e+06</td>\n",
       "      <td>5.114589e+06</td>\n",
       "      <td>NaN</td>\n",
       "      <td>5.000000e+01</td>\n",
       "      <td>NaN</td>\n",
       "    </tr>\n",
       "    <tr>\n",
       "      <td>25%</td>\n",
       "      <td>1.166776e+09</td>\n",
       "      <td>1.111826e+09</td>\n",
       "      <td>NaN</td>\n",
       "      <td>1.220000e+03</td>\n",
       "      <td>NaN</td>\n",
       "    </tr>\n",
       "    <tr>\n",
       "      <td>50%</td>\n",
       "      <td>2.145194e+09</td>\n",
       "      <td>2.217985e+09</td>\n",
       "      <td>NaN</td>\n",
       "      <td>2.978000e+03</td>\n",
       "      <td>NaN</td>\n",
       "    </tr>\n",
       "    <tr>\n",
       "      <td>75%</td>\n",
       "      <td>3.237740e+09</td>\n",
       "      <td>3.177606e+09</td>\n",
       "      <td>NaN</td>\n",
       "      <td>8.290000e+03</td>\n",
       "      <td>NaN</td>\n",
       "    </tr>\n",
       "    <tr>\n",
       "      <td>max</td>\n",
       "      <td>4.293856e+09</td>\n",
       "      <td>4.283872e+09</td>\n",
       "      <td>NaN</td>\n",
       "      <td>1.294500e+06</td>\n",
       "      <td>NaN</td>\n",
       "    </tr>\n",
       "  </tbody>\n",
       "</table>\n",
       "</div>"
      ],
      "text/plain": [
       "        transactionId     visitorId        date       revenue group\n",
       "count    1.197000e+03  1.197000e+03        1197  1.197000e+03  1197\n",
       "unique            NaN           NaN          31           NaN     2\n",
       "top               NaN           NaN  2019-08-05           NaN     B\n",
       "freq              NaN           NaN          48           NaN   640\n",
       "mean     2.155621e+09  2.165960e+09         NaN  8.348006e+03   NaN\n",
       "std      1.229085e+09  1.236014e+09         NaN  3.919113e+04   NaN\n",
       "min      1.062393e+06  5.114589e+06         NaN  5.000000e+01   NaN\n",
       "25%      1.166776e+09  1.111826e+09         NaN  1.220000e+03   NaN\n",
       "50%      2.145194e+09  2.217985e+09         NaN  2.978000e+03   NaN\n",
       "75%      3.237740e+09  3.177606e+09         NaN  8.290000e+03   NaN\n",
       "max      4.293856e+09  4.283872e+09         NaN  1.294500e+06   NaN"
      ]
     },
     "metadata": {},
     "output_type": "display_data"
    },
    {
     "name": "stdout",
     "output_type": "stream",
     "text": [
      "----------------------------------------------------------------------------------------------------------\n",
      "transactionId <--\n"
     ]
    },
    {
     "data": {
      "text/plain": [
       "array([3667963787, 2804400009, 2961555356, ..., 1807773912, 1947021204,\n",
       "       3936777065])"
      ]
     },
     "metadata": {},
     "output_type": "display_data"
    },
    {
     "data": {
      "text/plain": [
       "3574407166    1\n",
       "2470658885    1\n",
       "1476831880    1\n",
       "3709669952    1\n",
       "2764584088    1\n",
       "             ..\n",
       "1168756094    1\n",
       "1185885568    1\n",
       "11068804      1\n",
       "486237576     1\n",
       "1192185169    1\n",
       "Name: transactionId, Length: 1197, dtype: int64"
      ]
     },
     "metadata": {},
     "output_type": "display_data"
    },
    {
     "name": "stdout",
     "output_type": "stream",
     "text": [
      "----------------------------------------------------------------------------------------------------------\n",
      "visitorId <--\n"
     ]
    },
    {
     "data": {
      "text/plain": [
       "array([3312258926, 3642806036, 4069496402, ...,  370388673,  573423106,\n",
       "       2108080724])"
      ]
     },
     "metadata": {},
     "output_type": "display_data"
    },
    {
     "data": {
      "text/plain": [
       "4256040402    11\n",
       "2458001652    11\n",
       "2378935119     9\n",
       "2038680547     8\n",
       "3717692402     5\n",
       "              ..\n",
       "3254689071     1\n",
       "4186744110     1\n",
       "1455861274     1\n",
       "3612778094     1\n",
       "3149228032     1\n",
       "Name: visitorId, Length: 1031, dtype: int64"
      ]
     },
     "metadata": {},
     "output_type": "display_data"
    },
    {
     "name": "stdout",
     "output_type": "stream",
     "text": [
      "----------------------------------------------------------------------------------------------------------\n",
      "date <--\n"
     ]
    },
    {
     "data": {
      "text/plain": [
       "array(['2019-08-15', '2019-08-16', '2019-08-01', '2019-08-22',\n",
       "       '2019-08-17', '2019-08-23', '2019-08-02', '2019-08-18',\n",
       "       '2019-08-24', '2019-08-03', '2019-08-25', '2019-08-28',\n",
       "       '2019-08-19', '2019-08-06', '2019-08-26', '2019-08-29',\n",
       "       '2019-08-04', '2019-08-20', '2019-08-09', '2019-08-07',\n",
       "       '2019-08-30', '2019-08-05', '2019-08-27', '2019-08-21',\n",
       "       '2019-08-08', '2019-08-10', '2019-08-31', '2019-08-11',\n",
       "       '2019-08-12', '2019-08-13', '2019-08-14'], dtype=object)"
      ]
     },
     "metadata": {},
     "output_type": "display_data"
    },
    {
     "data": {
      "text/plain": [
       "2019-08-05    48\n",
       "2019-08-14    47\n",
       "2019-08-12    47\n",
       "2019-08-15    46\n",
       "2019-08-06    46\n",
       "2019-08-28    45\n",
       "2019-08-01    45\n",
       "2019-08-27    44\n",
       "2019-08-02    44\n",
       "2019-08-19    43\n",
       "2019-08-08    43\n",
       "2019-08-29    42\n",
       "2019-08-07    42\n",
       "2019-08-09    41\n",
       "2019-08-26    41\n",
       "2019-08-22    41\n",
       "2019-08-23    40\n",
       "2019-08-03    40\n",
       "2019-08-10    39\n",
       "2019-08-16    38\n",
       "2019-08-21    37\n",
       "2019-08-30    35\n",
       "2019-08-13    35\n",
       "2019-08-04    33\n",
       "2019-08-20    32\n",
       "2019-08-31    32\n",
       "2019-08-24    31\n",
       "2019-08-11    26\n",
       "2019-08-18    26\n",
       "2019-08-17    24\n",
       "2019-08-25    24\n",
       "Name: date, dtype: int64"
      ]
     },
     "metadata": {},
     "output_type": "display_data"
    },
    {
     "name": "stdout",
     "output_type": "stream",
     "text": [
      "----------------------------------------------------------------------------------------------------------\n",
      "revenue <--\n"
     ]
    },
    {
     "data": {
      "text/plain": [
       "array([   1650,     730,     400,    9759,    2308,    2210,    1860,\n",
       "          1044,   13710,    1855,    4008,    4499,    7370,   11985,\n",
       "         10980,   15277,    1060,     990,   16490,    1190,     300,\n",
       "          1050,     632,   15185,    7555,    3488,    7620,    5280,\n",
       "           700,     190,     383,    1680,   22785,    2355,    2470,\n",
       "          6250,   19260,     610,    2986,    1090,    9290,    2480,\n",
       "          3000,    2140,    3590,    6990,    1250,    2970,   18100,\n",
       "           100,    2750,     570,    2978,    1440,    7860,   56650,\n",
       "           790,    1350,    2540,    1710,    2350,   14610,    8999,\n",
       "         10510,   29499,     780,     890,    4400,   32350,   40740,\n",
       "          2490,    2080,    5400,    5100,    4020,     690,   12350,\n",
       "          1290,     382,    2110,    1490,   17868,    1940,   26550,\n",
       "          5970,     987,    9024,    5555,    7129,    3240,    2995,\n",
       "          2550,   17600,     850,    5365,    8390,    5870,    5020,\n",
       "         14489,    8470,    1630,    5800,     172,    6230,     760,\n",
       "          3390,    4480,    1139,   12336,    1450,    7990,    5099,\n",
       "          9400,    6441,    3070,    6145,   53904,    6922,    5190,\n",
       "          6976,    7690,     426,   28490,     390,     299,    6329,\n",
       "          8800,    2990,    9448,    2920,    9980,    1790,    4970,\n",
       "          3760,    8090,   11990,   18900,    6420,    1990,     650,\n",
       "           436,    1038,    1780,    3564,    3340,    5480,   38160,\n",
       "          2800,    3040,     995,    3210,     310,    2090,    3468,\n",
       "           778,    5740,    4580,    1840,    1550,   17990,     290,\n",
       "          6940,    1690,    5369,   11115,     165,    2646,    2220,\n",
       "          2190,    2845,    1799,    1498,    9850,    6700,     500,\n",
       "          2640,    4717,   30649,    5640,    2820,   17422,   14155,\n",
       "          4185,   10960,    1140,    1310,    1380,   10791,    9310,\n",
       "          3470,    2955,   15850,   27550,   15485,    6201,    2320,\n",
       "           599,     660,    6149,    2938,   10590,     110,   12810,\n",
       "          9880,     920,   15417,     950,    2339,    3190,    2360,\n",
       "         16950,   34340,    1620,   14271,    1920,     380,    8240,\n",
       "           282,   10970,     170,    1922,   14400,   19538,   10450,\n",
       "          2290,    1830,   33970,    1100,    4877,   12680,     860,\n",
       "          3354,    1000,    6890,    4299,   12562,     420,   23750,\n",
       "          6350,     490,   22040,    2950,    2342,    5622,    7485,\n",
       "          1200,    2057,      76,    1900,    2690,   20219,    4195,\n",
       "           830,    2330,    2526,    1435,    1460,     250,    6194,\n",
       "          3460,    5070,    8850,    1410,    1758,    1220,    8000,\n",
       "         15072,   41450,    1530,    1390,    4370,    6000,    2580,\n",
       "          5160,    6536,    5000,   14970,    9080,     910,   16770,\n",
       "          2500,    1590,    3990,   20026,   12470,    4980,   16680,\n",
       "         16480,    4780,    3450,    5415,   16279,    2385,     120,\n",
       "          1398,   20990,    5539,     270,   21220,    1253,   12550,\n",
       "           880,    9990,    3890,   19240,    3080,     460,      70,\n",
       "           870,   26980,   13990,   24744,    4500,    8870,     600,\n",
       "           440,     750,    1950,   37550,   31680,    9490,   11249,\n",
       "           470, 1294500,    2630,    4930,    3150,   17650,    5450,\n",
       "          5770,    1575,   20450,   11050,    2000,    2255,    1999,\n",
       "          7300,   18464,    6677,    2890,    6248,    5270,    4485,\n",
       "          7349,    3030,      50,    9232,    9934,    2840,    8990,\n",
       "          8780,    4410,     350,   19280,   13769,    6681,    6260,\n",
       "          1130,   11135,   20100,    2722,    8885,    8585,    1980,\n",
       "         10195,   30990,    2359,     320,    2590,    8250,     580,\n",
       "          5350,    3140,    1910,   17379,    4840,    6930,    5690,\n",
       "          6090,     740,   10440,    4880,    6590,   21550,   33405,\n",
       "          3525,   43990,   13390,     697,    4495,    8401,    6382,\n",
       "          2285,   10485,    6288,   11711,    3950,   25080,    1580,\n",
       "         35485,    9750,   27490,    1510,    1850,    4990,    3650,\n",
       "         33050,    5530,   27600,    1893,   31350,     360,    5249,\n",
       "          6716,    3559,    5790,     604,    3550,     240,    2235,\n",
       "         10550,    4690,   12888,    7995,    3220,     495,     265,\n",
       "          4790,     480,    1721,    2830,     340,    1870,    2670,\n",
       "          2420,    3261,    1634,   39800,   12990,   25890,   18990,\n",
       "          3826,   18010,   10250,   17030,    5119,    9870,   13860,\n",
       "          8877,    4620,   43690,    1846,      90,    4190,   34550,\n",
       "         10765,    7024,    4698,    2030,   78990,   10850,     550,\n",
       "         16990,     620,     654,    6613,   10160,    6400,    6440,\n",
       "         27390,    2050,     540,   42740,    9680,    5150,     410,\n",
       "          3680,    5227,     590,    5776,    2390,   14495,    2070,\n",
       "          2555,   19520,   11688,    4180,    1399,   45880,    3050,\n",
       "           295,   17792,   24381,    1805,   28350,    6170,    3270,\n",
       "          2960,    1020,   10137,   14490,   67990,   86620,    4900,\n",
       "         49495,    3170,   37150,   19660,   45780,   24860,    1737,\n",
       "          1040,    9690,    1149,    5490,    1640,     840,   12490,\n",
       "          4740,    3480,     785,    7890,    2600,    3739,     900,\n",
       "          3888,    1993,   13770,   20290,    2578,    5330,    5719,\n",
       "          2436,    5030,    4210,    2400,    8099,    1540,    6242,\n",
       "         18560,     150,    4600,   13740,    2790,   19990,     980,\n",
       "          1120,   15416,    3410,    5840,    4170,   10170,     985,\n",
       "         22950,    1180,    1188,    2674,    4710,   18270,     770,\n",
       "         93940,    7110,   12642,    4920,    3290,   35890,    4363,\n",
       "          6445,   58220,    3740,    3500,    1600,    1420,    1729,\n",
       "          3250,     450,   11440,    4188,     530,   13354,   17300,\n",
       "          2180,     160,    1960,     359,     510,   19386,      75,\n",
       "          1885,    4040,   25790,   13203,    2250,   34990,    3430,\n",
       "         19490,     720,      60,    7390,    3910,   58550,     800,\n",
       "          7240,   18350,   18463,    3330,    6660,    4283,   60450,\n",
       "         24350,    9050,    5170,   28750,   11250,    1730,    5900,\n",
       "          2348,    3600,    1320,    3806,    2907,     971,   14990,\n",
       "           640,    8290,    5430,     820,    4685,    2610,   14250,\n",
       "           130,   52900,    3490,    4390,    9800,   13070,   15500,\n",
       "          6674,    3404,   18557,    8439,    8340,   27985,    6645,\n",
       "          8640,    6060,    1720,   15450,    1800,    8950,    8280,\n",
       "          1825,    5688,    4240,    2061,   12150,    1280,    8777,\n",
       "          9300,    8590,    6015,    1170,    4650,   39500,    6585,\n",
       "          5050,   14000,   32610,   16920,   65710,     725,    6438,\n",
       "         66350,    3320,   11490,    7500,    7550,   11565,    2752,\n",
       "         28060,    1707,    6780,    5390,    3260,   17940,   24990,\n",
       "          3980,    8529,    5440,    2510,   18893,   92550,   52480,\n",
       "          4140,    3520,    3180,    4120,     370,    6385,    9368,\n",
       "          3780,    1329,    3020,    6180,   25250,    4940,   10380,\n",
       "         15380,     112,   31550,    8600,    6490,  202740])"
      ]
     },
     "metadata": {},
     "output_type": "display_data"
    },
    {
     "data": {
      "text/plain": [
       "990      17\n",
       "890      13\n",
       "390      13\n",
       "1490     10\n",
       "1190     10\n",
       "         ..\n",
       "1139      1\n",
       "25250     1\n",
       "3180      1\n",
       "10970     1\n",
       "6145      1\n",
       "Name: revenue, Length: 713, dtype: int64"
      ]
     },
     "metadata": {},
     "output_type": "display_data"
    },
    {
     "name": "stdout",
     "output_type": "stream",
     "text": [
      "----------------------------------------------------------------------------------------------------------\n",
      "group <--\n"
     ]
    },
    {
     "data": {
      "text/plain": [
       "array(['B', 'A'], dtype=object)"
      ]
     },
     "metadata": {},
     "output_type": "display_data"
    },
    {
     "data": {
      "text/plain": [
       "B    640\n",
       "A    557\n",
       "Name: group, dtype: int64"
      ]
     },
     "metadata": {},
     "output_type": "display_data"
    },
    {
     "name": "stdout",
     "output_type": "stream",
     "text": [
      "file_end\n",
      "----------------------------------------------------------------------------------------------------------\n",
      "----------------------------------------------------------------------------------------------------------\n",
      "---------> visitors\n",
      "<class 'pandas.core.frame.DataFrame'>\n",
      "RangeIndex: 62 entries, 0 to 61\n",
      "Data columns (total 3 columns):\n",
      "date        62 non-null object\n",
      "group       62 non-null object\n",
      "visitors    62 non-null int64\n",
      "dtypes: int64(1), object(2)\n",
      "memory usage: 1.6+ KB\n"
     ]
    },
    {
     "data": {
      "text/plain": [
       "None"
      ]
     },
     "metadata": {},
     "output_type": "display_data"
    },
    {
     "data": {
      "text/html": [
       "<div>\n",
       "<style scoped>\n",
       "    .dataframe tbody tr th:only-of-type {\n",
       "        vertical-align: middle;\n",
       "    }\n",
       "\n",
       "    .dataframe tbody tr th {\n",
       "        vertical-align: top;\n",
       "    }\n",
       "\n",
       "    .dataframe thead th {\n",
       "        text-align: right;\n",
       "    }\n",
       "</style>\n",
       "<table border=\"1\" class=\"dataframe\">\n",
       "  <thead>\n",
       "    <tr style=\"text-align: right;\">\n",
       "      <th></th>\n",
       "      <th>date</th>\n",
       "      <th>group</th>\n",
       "      <th>visitors</th>\n",
       "    </tr>\n",
       "  </thead>\n",
       "  <tbody>\n",
       "    <tr>\n",
       "      <td>count</td>\n",
       "      <td>62</td>\n",
       "      <td>62</td>\n",
       "      <td>62.000000</td>\n",
       "    </tr>\n",
       "    <tr>\n",
       "      <td>unique</td>\n",
       "      <td>31</td>\n",
       "      <td>2</td>\n",
       "      <td>NaN</td>\n",
       "    </tr>\n",
       "    <tr>\n",
       "      <td>top</td>\n",
       "      <td>2019-08-27</td>\n",
       "      <td>A</td>\n",
       "      <td>NaN</td>\n",
       "    </tr>\n",
       "    <tr>\n",
       "      <td>freq</td>\n",
       "      <td>2</td>\n",
       "      <td>31</td>\n",
       "      <td>NaN</td>\n",
       "    </tr>\n",
       "    <tr>\n",
       "      <td>mean</td>\n",
       "      <td>NaN</td>\n",
       "      <td>NaN</td>\n",
       "      <td>607.290323</td>\n",
       "    </tr>\n",
       "    <tr>\n",
       "      <td>std</td>\n",
       "      <td>NaN</td>\n",
       "      <td>NaN</td>\n",
       "      <td>114.400560</td>\n",
       "    </tr>\n",
       "    <tr>\n",
       "      <td>min</td>\n",
       "      <td>NaN</td>\n",
       "      <td>NaN</td>\n",
       "      <td>361.000000</td>\n",
       "    </tr>\n",
       "    <tr>\n",
       "      <td>25%</td>\n",
       "      <td>NaN</td>\n",
       "      <td>NaN</td>\n",
       "      <td>534.000000</td>\n",
       "    </tr>\n",
       "    <tr>\n",
       "      <td>50%</td>\n",
       "      <td>NaN</td>\n",
       "      <td>NaN</td>\n",
       "      <td>624.500000</td>\n",
       "    </tr>\n",
       "    <tr>\n",
       "      <td>75%</td>\n",
       "      <td>NaN</td>\n",
       "      <td>NaN</td>\n",
       "      <td>710.500000</td>\n",
       "    </tr>\n",
       "    <tr>\n",
       "      <td>max</td>\n",
       "      <td>NaN</td>\n",
       "      <td>NaN</td>\n",
       "      <td>770.000000</td>\n",
       "    </tr>\n",
       "  </tbody>\n",
       "</table>\n",
       "</div>"
      ],
      "text/plain": [
       "              date group    visitors\n",
       "count           62    62   62.000000\n",
       "unique          31     2         NaN\n",
       "top     2019-08-27     A         NaN\n",
       "freq             2    31         NaN\n",
       "mean           NaN   NaN  607.290323\n",
       "std            NaN   NaN  114.400560\n",
       "min            NaN   NaN  361.000000\n",
       "25%            NaN   NaN  534.000000\n",
       "50%            NaN   NaN  624.500000\n",
       "75%            NaN   NaN  710.500000\n",
       "max            NaN   NaN  770.000000"
      ]
     },
     "metadata": {},
     "output_type": "display_data"
    },
    {
     "name": "stdout",
     "output_type": "stream",
     "text": [
      "----------------------------------------------------------------------------------------------------------\n",
      "date <--\n"
     ]
    },
    {
     "data": {
      "text/plain": [
       "array(['2019-08-01', '2019-08-02', '2019-08-03', '2019-08-04',\n",
       "       '2019-08-05', '2019-08-06', '2019-08-07', '2019-08-08',\n",
       "       '2019-08-09', '2019-08-10', '2019-08-11', '2019-08-12',\n",
       "       '2019-08-13', '2019-08-14', '2019-08-15', '2019-08-16',\n",
       "       '2019-08-17', '2019-08-18', '2019-08-19', '2019-08-20',\n",
       "       '2019-08-21', '2019-08-22', '2019-08-23', '2019-08-24',\n",
       "       '2019-08-25', '2019-08-26', '2019-08-27', '2019-08-28',\n",
       "       '2019-08-29', '2019-08-30', '2019-08-31'], dtype=object)"
      ]
     },
     "metadata": {},
     "output_type": "display_data"
    },
    {
     "data": {
      "text/plain": [
       "2019-08-27    2\n",
       "2019-08-30    2\n",
       "2019-08-28    2\n",
       "2019-08-07    2\n",
       "2019-08-18    2\n",
       "2019-08-22    2\n",
       "2019-08-03    2\n",
       "2019-08-06    2\n",
       "2019-08-19    2\n",
       "2019-08-25    2\n",
       "2019-08-13    2\n",
       "2019-08-01    2\n",
       "2019-08-24    2\n",
       "2019-08-04    2\n",
       "2019-08-23    2\n",
       "2019-08-11    2\n",
       "2019-08-16    2\n",
       "2019-08-12    2\n",
       "2019-08-14    2\n",
       "2019-08-29    2\n",
       "2019-08-31    2\n",
       "2019-08-09    2\n",
       "2019-08-02    2\n",
       "2019-08-05    2\n",
       "2019-08-20    2\n",
       "2019-08-15    2\n",
       "2019-08-10    2\n",
       "2019-08-08    2\n",
       "2019-08-21    2\n",
       "2019-08-26    2\n",
       "2019-08-17    2\n",
       "Name: date, dtype: int64"
      ]
     },
     "metadata": {},
     "output_type": "display_data"
    },
    {
     "name": "stdout",
     "output_type": "stream",
     "text": [
      "----------------------------------------------------------------------------------------------------------\n",
      "group <--\n"
     ]
    },
    {
     "data": {
      "text/plain": [
       "array(['A', 'B'], dtype=object)"
      ]
     },
     "metadata": {},
     "output_type": "display_data"
    },
    {
     "data": {
      "text/plain": [
       "A    31\n",
       "B    31\n",
       "Name: group, dtype: int64"
      ]
     },
     "metadata": {},
     "output_type": "display_data"
    },
    {
     "name": "stdout",
     "output_type": "stream",
     "text": [
      "----------------------------------------------------------------------------------------------------------\n",
      "visitors <--\n"
     ]
    },
    {
     "data": {
      "text/plain": [
       "array([719, 619, 507, 717, 756, 667, 644, 610, 617, 406, 718, 595, 748,\n",
       "       735, 628, 361, 412, 668, 502, 575, 646, 609, 468, 395, 621, 722,\n",
       "       711, 594, 577, 490, 699, 713, 581, 509, 770, 707, 655, 709, 654,\n",
       "       369, 721, 543, 769, 746, 544, 413, 421, 737, 487, 560, 656, 650,\n",
       "       546, 378, 679, 676, 720, 531])"
      ]
     },
     "metadata": {},
     "output_type": "display_data"
    },
    {
     "data": {
      "text/plain": [
       "610    2\n",
       "718    2\n",
       "654    2\n",
       "490    2\n",
       "509    1\n",
       "575    1\n",
       "699    1\n",
       "709    1\n",
       "361    1\n",
       "560    1\n",
       "679    1\n",
       "421    1\n",
       "676    1\n",
       "546    1\n",
       "544    1\n",
       "543    1\n",
       "722    1\n",
       "707    1\n",
       "668    1\n",
       "667    1\n",
       "406    1\n",
       "531    1\n",
       "656    1\n",
       "655    1\n",
       "395    1\n",
       "650    1\n",
       "646    1\n",
       "644    1\n",
       "770    1\n",
       "577    1\n",
       "711    1\n",
       "581    1\n",
       "617    1\n",
       "378    1\n",
       "413    1\n",
       "746    1\n",
       "502    1\n",
       "628    1\n",
       "756    1\n",
       "369    1\n",
       "412    1\n",
       "621    1\n",
       "748    1\n",
       "619    1\n",
       "487    1\n",
       "507    1\n",
       "609    1\n",
       "737    1\n",
       "735    1\n",
       "468    1\n",
       "595    1\n",
       "594    1\n",
       "721    1\n",
       "720    1\n",
       "719    1\n",
       "717    1\n",
       "713    1\n",
       "769    1\n",
       "Name: visitors, dtype: int64"
      ]
     },
     "metadata": {},
     "output_type": "display_data"
    },
    {
     "name": "stdout",
     "output_type": "stream",
     "text": [
      "file_end\n",
      "----------------------------------------------------------------------------------------------------------\n",
      "----------------------------------------------------------------------------------------------------------\n"
     ]
    }
   ],
   "source": [
    "for file in os.listdir('/datasets/'):\n",
    "    name = file.split('.csv')[0]\n",
    "    if name in ['orders', 'visitors']:\n",
    "        data = pd.read_csv('/datasets/{}'.format(file))\n",
    "        print('--------->', name)\n",
    "        display(data.info())\n",
    "        display(data.describe(include='all'))\n",
    "        for columns in data.columns:\n",
    "            print('----------------------------------------------------------------------------------------------------------')\n",
    "            print(columns, '<--')\n",
    "            display(data[columns].unique())\n",
    "            display(data[columns].value_counts())\n",
    "        print('file_end')\n",
    "        print('----------------------------------------------------------------------------------------------------------')\n",
    "        print('----------------------------------------------------------------------------------------------------------')"
   ]
  },
  {
   "cell_type": "markdown",
   "metadata": {},
   "source": [
    "В группах А и В неравномерное распределение, что уже является проблемой при АВ тестировании. Необходимот узнать, насколько кол-во пользователей различается, а так же проверить на наличие одинакового айди в двух группах."
   ]
  },
  {
   "cell_type": "code",
   "execution_count": 11,
   "metadata": {},
   "outputs": [
    {
     "name": "stdout",
     "output_type": "stream",
     "text": [
      "503\n",
      "586\n"
     ]
    }
   ],
   "source": [
    "print(len(data_orders.query('group == \"A\"')['visitorId'].unique()))\n",
    "print(len(data_orders.query('group == \"B\"')['visitorId'].unique()))"
   ]
  },
  {
   "cell_type": "code",
   "execution_count": 12,
   "metadata": {},
   "outputs": [
    {
     "name": "stdout",
     "output_type": "stream",
     "text": [
      "58\n"
     ]
    }
   ],
   "source": [
    "test = data_orders.query('group == \"B\"')['visitorId'].unique()\n",
    "print(len(data_orders.query('group == \"A\" and visitorId in @test')['visitorId'].unique()))"
   ]
  },
  {
   "cell_type": "markdown",
   "metadata": {},
   "source": [
    "Имеются кроссюзеры. Уже достаточно причин для прекращение тестирования, необходимо писать запрос на исправление ошибок."
   ]
  },
  {
   "cell_type": "code",
   "execution_count": 13,
   "metadata": {},
   "outputs": [
    {
     "data": {
      "text/plain": [
       "array([4069496402,  199603092, 3803269165, 2378935119,  237748145,\n",
       "       4256040402, 2038680547, 1738359350, 2458001652, 3891541246,\n",
       "       2716752286, 3656415546, 2686716486, 2954449915, 2927087541,\n",
       "       3234906277,  457167155, 2579882178, 3957174400, 1648269707,\n",
       "       2780786433,  818047933, 2044997962, 1959144690, 3202540741,\n",
       "       1333886533,  351125977, 3951559397,  393266494, 3984495233,\n",
       "       4120364173, 4266935830, 1230306981, 1294878855, 1614305549,\n",
       "          8300375,  477780734, 1668030113, 3717692402, 3766097110,\n",
       "       3941795274,  471551937, 1316129916, 1801183820, 1602967004,\n",
       "       2587333274, 2600415354,  232979603, 3972127743, 1404934699,\n",
       "        276558944, 3062433592, 2654030115, 3963646447, 4186807279,\n",
       "       2712142231, 2949041841,  963407295])"
      ]
     },
     "execution_count": 13,
     "metadata": {},
     "output_type": "execute_result"
    }
   ],
   "source": [
    "crossUsers = data_orders.query('group == \"A\" and visitorId in @test')['visitorId'].unique()\n",
    "crossUsers"
   ]
  },
  {
   "cell_type": "code",
   "execution_count": 14,
   "metadata": {},
   "outputs": [],
   "source": [
    "# чистим дубли\n",
    "data_orders = data_orders[~data_orders['visitorId'].isin(crossUsers)]"
   ]
  },
  {
   "cell_type": "code",
   "execution_count": 15,
   "metadata": {},
   "outputs": [
    {
     "name": "stdout",
     "output_type": "stream",
     "text": [
      "445\n",
      "528\n",
      "468\n",
      "548\n"
     ]
    }
   ],
   "source": [
    "# группы А и В отличаются по кол-ву пользователей. Необходимо это отметить в отчете\n",
    "print(len(data_orders.query('group == \"A\"')['visitorId'].unique()))\n",
    "print(len(data_orders.query('group == \"B\"')['visitorId'].unique()))\n",
    "print(len(data_orders.query('group == \"A\"')['visitorId']))\n",
    "print(len(data_orders.query('group == \"B\"')['visitorId']))"
   ]
  },
  {
   "cell_type": "code",
   "execution_count": 16,
   "metadata": {},
   "outputs": [],
   "source": [
    "data_orders['date'] = pd.to_datetime(data_orders['date'], format='%Y-%m-%d')\n",
    "data_visitors['date'] = pd.to_datetime(data_visitors['date'], format='%Y-%m-%d')"
   ]
  },
  {
   "cell_type": "code",
   "execution_count": 17,
   "metadata": {},
   "outputs": [],
   "source": [
    "data_orders.drop_duplicates(inplace=True)\n",
    "data_visitors.drop_duplicates(inplace=True)"
   ]
  },
  {
   "cell_type": "markdown",
   "metadata": {},
   "source": [
    "# Основные расчеты"
   ]
  },
  {
   "cell_type": "code",
   "execution_count": 18,
   "metadata": {},
   "outputs": [],
   "source": [
    "# создаем массив уникальных пар значений дат и групп теста\n",
    "datesGroups = data_orders[['date', 'group']].drop_duplicates()"
   ]
  },
  {
   "cell_type": "code",
   "execution_count": 19,
   "metadata": {},
   "outputs": [],
   "source": [
    "# Агрегируем значения. Найдём число уникальных ID заказов и пользователей. \n",
    "# Подсчитаем сумму средних чеков\n",
    "ordersAggregated = datesGroups.apply(lambda x: data_orders[np.logical_and(data_orders['date'] <= x['date'],\n",
    "                                                                    data_orders['group'] == x['group'])]\\\n",
    "             .agg({'date':'max','group':'max','transactionId': pd.Series.nunique,\n",
    "                   'visitorId': pd.Series.nunique, 'revenue':'sum'}), axis=1).sort_values(by=['date','group'])"
   ]
  },
  {
   "cell_type": "code",
   "execution_count": 20,
   "metadata": {},
   "outputs": [],
   "source": [
    "# Аналогично получим агрегированные кумулятивные по дням данные о посетителях интернет-магазина\n",
    "visitorsAggregated = datesGroups.apply(lambda x: data_visitors[np.logical_and(data_visitors['date'] <= x['date'],\n",
    "                                                                         data_visitors['group'] == x['group'])]\\\n",
    "             .agg({'date':'max','group':'max','visitors':'sum'}), axis=1).sort_values(by=['date','group'])"
   ]
  },
  {
   "cell_type": "code",
   "execution_count": 21,
   "metadata": {},
   "outputs": [
    {
     "name": "stdout",
     "output_type": "stream",
     "text": [
      "        date group  transactionId  buyers  revenue  visitors\n",
      "0 2019-08-01     A             23      19   142779       719\n",
      "1 2019-08-01     B             17      17    59758       713\n",
      "2 2019-08-02     A             42      36   234381      1338\n",
      "3 2019-08-02     B             40      39   221801      1294\n",
      "4 2019-08-03     A             66      60   346854      1845\n"
     ]
    }
   ],
   "source": [
    "# объединяем кумулятивные данные в одной таблице и присваиваем ее столбцам понятные названия\n",
    "cumulativeData = ordersAggregated.merge(visitorsAggregated, left_on=['date', 'group'], \n",
    "                                        right_on=['date', 'group'])\n",
    "cumulativeData.columns = ['date', 'group', 'transactionId', 'buyers', 'revenue', 'visitors']\n",
    "print(cumulativeData.head(5))"
   ]
  },
  {
   "cell_type": "markdown",
   "metadata": {},
   "source": [
    "<div style=\"border:solid black 4px; padding: 20px\">\n",
    "1. Построим графики кумулятивной выручки.\n",
    "</div>"
   ]
  },
  {
   "cell_type": "code",
   "execution_count": 22,
   "metadata": {},
   "outputs": [
    {
     "data": {
      "image/png": "[encoded data removed]",
      "text/plain": [
       "<Figure size 432x288 with 1 Axes>"
      ]
     },
     "metadata": {
      "needs_background": "light"
     },
     "output_type": "display_data"
    }
   ],
   "source": [
    "# Построим графики кумулятивной выручки по дням и группам A/B-тестирования\n",
    "import pylab\n",
    "from pylab import *\n",
    "cumulativeRevenueA = cumulativeData[cumulativeData['group']=='A'][['date','revenue', 'transactionId', 'visitors']]\n",
    "cumulativeRevenueB = cumulativeData[cumulativeData['group']=='B'][['date','revenue', 'transactionId', 'visitors']]\n",
    "\n",
    "plt.plot(cumulativeRevenueA['date'].dt.strftime('%d'), cumulativeRevenueA['revenue'], label='A')\n",
    "plt.plot(cumulativeRevenueB['date'].dt.strftime('%d'), cumulativeRevenueB['revenue'], label='B')\n",
    "\n",
    "# pylab.xticks(range(2))\n",
    "xticks(np.arange(0, 30, step=2))\n",
    "plt.title('Графики кумулятивной выручки по дням')\n",
    "plt.xlabel('Число месяца(Август)')\n",
    "plt.ylabel('Выручка')\n",
    "plt.legend();"
   ]
  },
  {
   "cell_type": "markdown",
   "metadata": {},
   "source": [
    "<div style=\"border:solid green 4px; padding: 20px\">Выручка почти равномерно увеличивается в течение всего теста. Однако график выручки группы В в одной точке резко растет. Это может сигнализировать о всплесках числа заказов, либо о появлении очень дорогих заказов в выборке.\n",
    "</div>"
   ]
  },
  {
   "cell_type": "markdown",
   "metadata": {},
   "source": [
    "<div style=\"border:solid black 4px; padding: 20px\">\n",
    "2. Построим графики среднего чека по группам\n",
    "</div>"
   ]
  },
  {
   "cell_type": "code",
   "execution_count": 23,
   "metadata": {},
   "outputs": [
    {
     "data": {
      "image/png": "[encoded data removed]",
      "text/plain": [
       "<Figure size 432x288 with 1 Axes>"
      ]
     },
     "metadata": {
      "needs_background": "light"
     },
     "output_type": "display_data"
    }
   ],
   "source": [
    "# Построим графики среднего чека по группам — разделим кумулятивную выручку на кумулятивное число заказов\n",
    "plt.plot(cumulativeRevenueA['date'].dt.strftime('%d'), cumulativeRevenueA['revenue']\n",
    "         /cumulativeRevenueA['transactionId'], label='A')\n",
    "plt.plot(cumulativeRevenueB['date'].dt.strftime('%d'), cumulativeRevenueB['revenue']\n",
    "         /cumulativeRevenueB['transactionId'], label='B')\n",
    "xticks(np.arange(0, 30, step=2))\n",
    "plt.title('Графики среднего чека')\n",
    "plt.xlabel('Число месяца(Август)')\n",
    "plt.ylabel('Средний чек')\n",
    "plt.legend();"
   ]
  },
  {
   "cell_type": "markdown",
   "metadata": {},
   "source": [
    "<div style=\"border:solid green 4px; padding: 20px\">\n",
    "Средний чек тоже становится равномерным ближе к середине теста, но для группы B в однин момент резко возрастает. Возможно, в группу B во второй половине теста попали крупные заказы (резкий всплеск на графике). необходимо в дальнейшем убрать данные выбросы.\n",
    "    </div>"
   ]
  },
  {
   "cell_type": "markdown",
   "metadata": {},
   "source": [
    "<div style=\"border:solid black 4px; padding: 20px\">\n",
    "3. Построим график относительного различия для среднего чека.\n",
    "</div>"
   ]
  },
  {
   "cell_type": "code",
   "execution_count": 24,
   "metadata": {},
   "outputs": [
    {
     "data": {
      "image/png": "[encoded data removed]",
      "text/plain": [
       "<Figure size 432x288 with 1 Axes>"
      ]
     },
     "metadata": {
      "needs_background": "light"
     },
     "output_type": "display_data"
    }
   ],
   "source": [
    "# Построим график относительного различия для среднего чека. \n",
    "mergedCumulativeRevenue = cumulativeRevenueA.merge(cumulativeRevenueB, \n",
    "                                                   left_on='date', right_on='date', how='left', suffixes=['_A', '_B'])\n",
    "plt.plot(mergedCumulativeRevenue['date'].dt.strftime('%d'), \n",
    "         (mergedCumulativeRevenue['revenue_B']/mergedCumulativeRevenue['transactionId_B'])\n",
    "         /(mergedCumulativeRevenue['revenue_A']/mergedCumulativeRevenue['transactionId_A'])-1)\n",
    "xticks(np.arange(0, 30, step=2))\n",
    "plt.title('График относительного различия для среднего чека')\n",
    "plt.xlabel('Число месяца(Август)')\n",
    "plt.ylabel('Относительное различие')\n",
    "plt.axhline(y=0, color='black', linestyle='--');"
   ]
  },
  {
   "cell_type": "markdown",
   "metadata": {},
   "source": [
    "<div style=\"border:solid green 4px; padding: 20px\">\n",
    "Резкие скачки на данном графике определенно говорят о выбросах.\n",
    "    </div>"
   ]
  },
  {
   "cell_type": "markdown",
   "metadata": {},
   "source": [
    "<div style=\"border:solid black 4px; padding: 20px\">\n",
    "4. Проанализируем график кумулятивной конверсии.\n",
    "</div>"
   ]
  },
  {
   "cell_type": "code",
   "execution_count": 25,
   "metadata": {},
   "outputs": [
    {
     "data": {
      "image/png": "[encoded data removed]",
      "text/plain": [
       "<Figure size 432x288 with 1 Axes>"
      ]
     },
     "metadata": {
      "needs_background": "light"
     },
     "output_type": "display_data"
    }
   ],
   "source": [
    "# Проанализируем график кумулятивной конверсии.\n",
    "cumulativeData['conversion'] = cumulativeData['transactionId']/cumulativeData['visitors']\n",
    "\n",
    "cumulativeDataA = cumulativeData[cumulativeData['group']=='A']\n",
    "cumulativeDataB = cumulativeData[cumulativeData['group']=='B']\n",
    "\n",
    "plt.plot(cumulativeDataA['date'].dt.strftime('%d'), cumulativeDataA['conversion'], label='A')\n",
    "plt.plot(cumulativeDataB['date'].dt.strftime('%d'), cumulativeDataB['conversion'], label='B')\n",
    "plt.legend()\n",
    "\n",
    "plt.title('График кумулятивной конверсии')\n",
    "plt.xlabel('Число месяца(Август)')\n",
    "plt.ylabel('Конверсия')\n",
    "xticks(np.arange(0, 30, step=2));"
   ]
  },
  {
   "cell_type": "markdown",
   "metadata": {},
   "source": [
    "<div style=\"border:solid green 4px; padding: 20px\">\n",
    "Графики ассиметричны. Группы не могут закрепиться и постоянно колеблятся. Так же группа В намного весомее группы А.\n",
    "    </div>"
   ]
  },
  {
   "cell_type": "markdown",
   "metadata": {},
   "source": [
    "<div style=\"border:solid black 4px; padding: 20px\">\n",
    "5. Построим график относительного различия кумулятивных конверсий.\n",
    "</div>"
   ]
  },
  {
   "cell_type": "code",
   "execution_count": 26,
   "metadata": {},
   "outputs": [
    {
     "data": {
      "image/png": "[encoded data removed]",
      "text/plain": [
       "<Figure size 432x288 with 1 Axes>"
      ]
     },
     "metadata": {
      "needs_background": "light"
     },
     "output_type": "display_data"
    }
   ],
   "source": [
    "# Построим график относительного различия кумулятивных конверсий\n",
    "mergedCumulativeConversions = cumulativeDataA[['date','conversion']].\\\n",
    "                merge(cumulativeDataB[['date','conversion']],left_on='date', right_on='date', how='left', suffixes=['_A', '_B'])\n",
    "\n",
    "plt.plot(mergedCumulativeConversions['date'].dt.strftime('%d'),\n",
    "         mergedCumulativeConversions['conversion_B']/mergedCumulativeConversions['conversion_A']-1,\n",
    "         label=\"Относительный прирост конверсии группы B относительно группы A\")\n",
    "plt.legend();\n",
    "\n",
    "plt.axhline(y=0, color='black', linestyle='--')\n",
    "plt.axhline(y=0.1, color='grey', linestyle='--')\n",
    "plt.title('График относительного различия кумулятивных конверсий')\n",
    "plt.xlabel('Число месяца(Август)')\n",
    "plt.ylabel('Конверсия')\n",
    "xticks(np.arange(0, 30, step=2));\n",
    "plt.axis([1, 30, -0.2, 0.25]);"
   ]
  },
  {
   "cell_type": "markdown",
   "metadata": {},
   "source": [
    "<div style=\"border:solid green 4px; padding: 20px\">\n",
    "В начале теста группа B значительно проигрывала группе A, затем очень сильно вырвалась вперёд. Конверсия ее колеблится, но не падает ниже 10 пунктов преимущества.\n",
    "    </div>"
   ]
  },
  {
   "cell_type": "markdown",
   "metadata": {},
   "source": [
    "<div style=\"border:solid black 4px; padding: 20px\">\n",
    "6. Изучим точечный график распределения кол-ва заказов.\n",
    "</div>"
   ]
  },
  {
   "cell_type": "code",
   "execution_count": 27,
   "metadata": {},
   "outputs": [
    {
     "data": {
      "image/png": "[encoded data removed]",
      "text/plain": [
       "<Figure size 432x288 with 1 Axes>"
      ]
     },
     "metadata": {
      "needs_background": "light"
     },
     "output_type": "display_data"
    }
   ],
   "source": [
    "# Изучим точечный график распределения кол-ва заказов\n",
    "Orderbybuyers = data_orders.groupby('visitorId',as_index=False).agg({'transactionId' : pd.Series.nunique})\n",
    "x_values = pd.Series(range(0,len(Orderbybuyers)))\n",
    "plt.scatter(x_values, Orderbybuyers['transactionId'])\n",
    "plt.title('Точечный график распределения кол-ва заказов')\n",
    "plt.xlabel('Вхождения')\n",
    "plt.ylabel('Кол-во заказов')\n",
    "plt.yticks(np.arange(0, Orderbybuyers['transactionId'].max()+1, step=1));"
   ]
  },
  {
   "cell_type": "markdown",
   "metadata": {},
   "source": [
    "<div style=\"border:solid green 4px; padding: 20px\">\n",
    "Видим выбросы. Больше всего одиночных заказов.\n",
    "    </div>"
   ]
  },
  {
   "cell_type": "markdown",
   "metadata": {},
   "source": [
    "<div style=\"border:solid black 4px; padding: 20px\">\n",
    "7. Получим перцентиль количества заказов.\n",
    "</div>"
   ]
  },
  {
   "cell_type": "code",
   "execution_count": 28,
   "metadata": {},
   "outputs": [
    {
     "name": "stdout",
     "output_type": "stream",
     "text": [
      "[1. 1. 2.]\n"
     ]
    }
   ],
   "source": [
    "# получим перцентиль\n",
    "print(np.percentile(Orderbybuyers['transactionId'], [90, 95, 99]))"
   ]
  },
  {
   "cell_type": "markdown",
   "metadata": {},
   "source": [
    "<div style=\"border:solid green 4px; padding: 20px\">\n",
    "Не более 5% пользователей покупают больше 1 раза.\n",
    "</div>"
   ]
  },
  {
   "cell_type": "markdown",
   "metadata": {},
   "source": [
    "<div style=\"border:solid black 4px; padding: 20px\">\n",
    "8. Изучим точечный график распределения стоимостей заказов.\n",
    "</div>"
   ]
  },
  {
   "cell_type": "code",
   "execution_count": 29,
   "metadata": {},
   "outputs": [
    {
     "data": {
      "image/png": "[encoded data removed]",
      "text/plain": [
       "<Figure size 432x288 with 1 Axes>"
      ]
     },
     "metadata": {
      "needs_background": "light"
     },
     "output_type": "display_data"
    }
   ],
   "source": [
    "# Изучим точечный график распределения стоимостей заказов\n",
    "x_values = pd.Series(range(0,len(data_orders['revenue'])))\n",
    "plt.scatter(x_values, data_orders['revenue'])\n",
    "plt.title('Точечный график распределения стоимостей заказов')\n",
    "plt.xlabel('Вхождения')\n",
    "plt.ylabel('Стоимость заказов');"
   ]
  },
  {
   "cell_type": "markdown",
   "metadata": {},
   "source": [
    "<div style=\"border:solid green 4px; padding: 20px\">\n",
    "Есть немного дорогих заказов. По графику сложно выбрать границу аномальных заказов.\n",
    "</div>"
   ]
  },
  {
   "cell_type": "markdown",
   "metadata": {},
   "source": [
    "<div style=\"border:solid black 4px; padding: 20px\">\n",
    "9. Получим перцентиль стоимости заказов.\n",
    "</div>"
   ]
  },
  {
   "cell_type": "code",
   "execution_count": 30,
   "metadata": {},
   "outputs": [
    {
     "name": "stdout",
     "output_type": "stream",
     "text": [
      "[17990. 26785. 53904.]\n"
     ]
    }
   ],
   "source": [
    "# получим перцентиль\n",
    "print(np.percentile(data_orders['revenue'], [90, 95, 99]))"
   ]
  },
  {
   "cell_type": "markdown",
   "metadata": {},
   "source": [
    "<div style=\"border:solid green 4px; padding: 20px\">\n",
    "Не более 5% заказов имеют стоимость больше 26785 и не более 1% - 53904.\n",
    "</div>"
   ]
  },
  {
   "cell_type": "markdown",
   "metadata": {},
   "source": [
    "<div style=\"border:solid black 4px; padding: 20px\">\n",
    "10. Посчитаем статистическую значимость различий в конверсии между группами по «сырым» данным.\n",
    "</div>"
   ]
  },
  {
   "cell_type": "code",
   "execution_count": 31,
   "metadata": {},
   "outputs": [],
   "source": [
    "# Создадим переменные ordersByUsersA и ordersByUsersBъ для пользователей, которые заказывали хотя бы 1 раз, \n",
    "# укажем число совершённых заказов.\n",
    "ordersByUsersA = data_orders[data_orders['group']=='A'].groupby('visitorId',\n",
    "                                                                as_index=False).agg({'transactionId' : pd.Series.nunique})\n",
    "ordersByUsersA.columns = ['visitorId', 'orders']\n",
    "\n",
    "ordersByUsersB = data_orders[data_orders['group']=='B'].groupby('visitorId',\n",
    "                                                      as_index=False).agg({'transactionId' : pd.Series.nunique})\n",
    "ordersByUsersB.columns = ['visitorId', 'orders']"
   ]
  },
  {
   "cell_type": "code",
   "execution_count": 32,
   "metadata": {},
   "outputs": [],
   "source": [
    "# Объявим переменные sampleA и sampleB, в которых пользователям из разных групп будет соответствовать количество заказов. \n",
    "# Тем, кто ничего не заказал, будут соответствовать нули. \n",
    "sampleA = pd.concat([ordersByUsersA['orders'],\n",
    "                     pd.Series(0,index=np.arange(cumulativeRevenueA['visitors'].\n",
    "                                                 sum() - len(ordersByUsersA['orders'])), name='orders')],axis=0)\n",
    "\n",
    "sampleB = pd.concat([ordersByUsersB['orders'],\n",
    "                     pd.Series(0, index=np.arange(cumulativeRevenueB['visitors'].\n",
    "                                                  sum() - len(ordersByUsersB['orders'])), name='orders')],axis=0)"
   ]
  },
  {
   "cell_type": "code",
   "execution_count": 33,
   "metadata": {},
   "outputs": [
    {
     "name": "stdout",
     "output_type": "stream",
     "text": [
      "0.005\n",
      "0.166\n"
     ]
    }
   ],
   "source": [
    "# Выведем относительный прирост конверсии группы B\n",
    "print(\"{0:.3f}\".format(stats.mannwhitneyu(sampleA, sampleB)[1]))\n",
    "\n",
    "print(\"{0:.3f}\".format(sampleB.mean()/sampleA.mean()-1))"
   ]
  },
  {
   "cell_type": "markdown",
   "metadata": {},
   "source": [
    "<div style=\"border:solid green 4px; padding: 20px\">\n",
    "p-value меньше 0.05. Значит, нулевую гипотезу о том, что статистически значимых различий в конверсии между группами нет, можно отвергнуть. Относительный выйгрыш группы В равен 16.6%\n",
    "</div>"
   ]
  },
  {
   "cell_type": "markdown",
   "metadata": {},
   "source": [
    "<div style=\"border:solid black 4px; padding: 20px\">\n",
    "11. Посчитаем статистическую значимость различий в среднем чеке заказа между группами по «сырым» данным.\n",
    "</div>"
   ]
  },
  {
   "cell_type": "code",
   "execution_count": 34,
   "metadata": {},
   "outputs": [
    {
     "name": "stdout",
     "output_type": "stream",
     "text": [
      "0.415\n",
      "0.287\n"
     ]
    }
   ],
   "source": [
    "# Найдём относительные различия в среднем чеке между группами\n",
    "print(\"{0:.3f}\".format(stats.mannwhitneyu(data_orders[data_orders['group']=='A']['revenue'],\n",
    "                                          data_orders[data_orders['group']=='B']['revenue'])[1]))\n",
    "print(\"{0:.3f}\".format(data_orders[data_orders['group']=='B']['revenue'].\n",
    "                       mean()/data_orders[data_orders['group']=='A']['revenue'].mean()-1))"
   ]
  },
  {
   "cell_type": "markdown",
   "metadata": {},
   "source": [
    "<div style=\"border:solid green 4px; padding: 20px\">\n",
    "P-value значительно больше 0.05. Значит, причин отвергать нулевую гипотезу и считать, что в среднем чеке есть различия, нет. Впрочем, средний чек группы B значительно выше среднего чека группы A\n",
    "</div>"
   ]
  },
  {
   "cell_type": "markdown",
   "metadata": {},
   "source": [
    "<div style=\"border:solid black 4px; padding: 20px\">\n",
    "12. Посчитаем статистическую значимость различий в конверсии между группами по «очищенным» данным.\n",
    "</div>"
   ]
  },
  {
   "cell_type": "code",
   "execution_count": 35,
   "metadata": {},
   "outputs": [
    {
     "name": "stdout",
     "output_type": "stream",
     "text": [
      "568     113298937\n",
      "1099    148427295\n",
      "461     154576532\n",
      "928     204675465\n",
      "33      249864742\n",
      "Name: visitorId, dtype: int64\n",
      "(93,)\n"
     ]
    }
   ],
   "source": [
    "# Уберем выбросы в кол-ве заказов и узнаем, сколько всего аномальных пользователей\n",
    "usersWithManyOrders = pd.concat([ordersByUsersA[ordersByUsersA['orders'] >= 2]['visitorId'],\n",
    "                                 ordersByUsersB[ordersByUsersB['orders'] >= 2]['visitorId']], axis = 0)\n",
    "usersWithExpensiveOrders = data_orders[data_orders['revenue'] > 25000]['visitorId']\n",
    "abnormalUsers = pd.concat([usersWithManyOrders, usersWithExpensiveOrders], axis = 0).drop_duplicates().sort_values()\n",
    "print(abnormalUsers.head(5))\n",
    "print(abnormalUsers.shape)"
   ]
  },
  {
   "cell_type": "code",
   "execution_count": 36,
   "metadata": {},
   "outputs": [],
   "source": [
    "# Посчитаем статистическую значимость различий в конверсии между группами теста по очищенным данным\n",
    "sampleAFiltered = pd.concat([ordersByUsersA\n",
    "                             [np.logical_not(ordersByUsersA['visitorId'].\n",
    "                                             isin(abnormalUsers))]['orders'],\n",
    "                             pd.Series(0, index=np.arange(cumulativeRevenueA['visitors'].\n",
    "                                                          sum() - len(ordersByUsersA['orders'])),name='orders')],axis=0)\n",
    "\n",
    "sampleBFiltered = pd.concat([ordersByUsersB\n",
    "                             [np.logical_not(ordersByUsersB['visitorId'].\n",
    "                                             isin(abnormalUsers))]['orders'],\n",
    "                             pd.Series(0, index=np.arange(cumulativeRevenueB['visitors'].\n",
    "                                                          sum() - len(ordersByUsersB['orders'])),name='orders')],axis=0)"
   ]
  },
  {
   "cell_type": "code",
   "execution_count": 37,
   "metadata": {},
   "outputs": [
    {
     "name": "stdout",
     "output_type": "stream",
     "text": [
      "0.011\n",
      "0.167\n"
     ]
    }
   ],
   "source": [
    "# Применим статистический критерий Манна-Уитни к полученным выборкам\n",
    "print(\"{0:.3f}\".format(stats.mannwhitneyu(sampleAFiltered, sampleBFiltered)[1]))\n",
    "print(\"{0:.3f}\".format(sampleBFiltered.mean()/sampleAFiltered.mean()-1))"
   ]
  },
  {
   "cell_type": "markdown",
   "metadata": {},
   "source": [
    "<div style=\"border:solid green 4px; padding: 20px\">\n",
    "P-value меньше 0.05. Значит, нулевую гипотезу о том, что статистически значимых различий в конверсии между группами нет, можно отвергнуть. Относительный выйгрыш группы В равен 16.7%\n",
    "</div>"
   ]
  },
  {
   "cell_type": "markdown",
   "metadata": {},
   "source": [
    "<div style=\"border:solid black 4px; padding: 20px\">\n",
    "13. Посчитаем статистическую значимость различий в среднем чеке заказа между группами по «очищенным» данным.\n",
    "</div>"
   ]
  },
  {
   "cell_type": "code",
   "execution_count": 38,
   "metadata": {},
   "outputs": [
    {
     "name": "stdout",
     "output_type": "stream",
     "text": [
      "0.270\n",
      "-0.077\n"
     ]
    }
   ],
   "source": [
    "# Найдём относительные различия в среднем чеке между группами теста по очищенным данным\n",
    "print(\"{0:.3f}\".format(stats.mannwhitneyu(\n",
    "    data_orders[np.logical_and(\n",
    "        data_orders['group']=='A',\n",
    "        np.logical_not(data_orders['visitorId'].isin(abnormalUsers)))]['revenue'],\n",
    "    data_orders[np.logical_and(\n",
    "        data_orders['group']=='B',\n",
    "        np.logical_not(data_orders['visitorId'].isin(abnormalUsers)))]['revenue'])[1]))\n",
    "\n",
    "print(\"{0:.3f}\".format(\n",
    "    data_orders[np.logical_and(\n",
    "        data_orders['group']=='B',\n",
    "        np.logical_not(data_orders['visitorId'].isin(abnormalUsers)))]['revenue'].mean()/\n",
    "    data_orders[np.logical_and(\n",
    "        data_orders['group']=='A',\n",
    "        np.logical_not(data_orders['visitorId'].isin(abnormalUsers)))]['revenue'].mean() - 1))"
   ]
  },
  {
   "cell_type": "markdown",
   "metadata": {},
   "source": [
    "<div style=\"border:solid green 4px; padding: 20px\">\n",
    "P-value значительно больше 0.05. Значит, причин отвергать нулевую гипотезу и считать, что в среднем чеке есть различия, нет. Средний чек группы B стал значительно ниже, чем раньше и даже проигрывает среднему чеку группы A\n",
    "</div>"
   ]
  },
  {
   "cell_type": "markdown",
   "metadata": {},
   "source": [
    "# Итог"
   ]
  },
  {
   "cell_type": "markdown",
   "metadata": {},
   "source": [
    "<div style=\"border:solid green 6px; padding: 20px\">\n",
    "\n",
    "**Итоги по первой части:**\n",
    "\n",
    "Самая перспективная гипотеза - добавление формы подписки на все основные страницы. Так же можно добавить блоки рекомендаций товаров на сайт интернет магазина, добавить два новых канала привлечения трафика, показать на главной странице баннеры с актуальными акциями и распродажами.\n",
    "\n",
    "**Итоги по второй части:**\n",
    "\n",
    "Очень сильные колебания групп, нет фиксации, большие выбросы, разное кол-во пользователей.\n",
    "\n",
    "Ввиду ошибок, изложенных выше, необходимо продолжить тест, перед этим проверив и исправив все ошибки в данных, так как группы сильно различаются, неравномерны по кол-ву пользователей, а так же средние показатели групп не зафиксировались(что видно невооруженным взглядом).\n",
    "\n",
    "Важно обязщательно успешно провести АА тест, иначе итог анализа по нынешним данным не даст никакой полезной информации по дальнейшему развитию проекта. Не известно, сколько еще ошибок имеется после некорректного проведения АА теста.\n",
    "\n",
    "По предварительным данным различия групп не существенны.\n",
    "    </div>"
   ]
  },
  {
   "cell_type": "code",
   "execution_count": 39,
   "metadata": {},
   "outputs": [
    {
     "data": {
      "image/png": "[encoded data removed]",
      "text/plain": [
       "<Figure size 432x288 with 1 Axes>"
      ]
     },
     "metadata": {
      "needs_background": "light"
     },
     "output_type": "display_data"
    }
   ],
   "source": [
    "plt.plot(mergedCumulativeRevenue['date'].dt.strftime('%d'), \n",
    "         (mergedCumulativeRevenue['revenue_B']/mergedCumulativeRevenue['transactionId_B'])\n",
    "         /(mergedCumulativeRevenue['revenue_A']/mergedCumulativeRevenue['transactionId_A'])-1)\n",
    "xticks(np.arange(0, 30, step=2))\n",
    "plt.title('График относительного различия для среднего чека')\n",
    "plt.xlabel('Число месяца(Август)')\n",
    "plt.ylabel('Относительное различие')\n",
    "plt.axhline(y=0, color='black', linestyle='--');"
   ]
  },
  {
   "cell_type": "code",
   "execution_count": 40,
   "metadata": {},
   "outputs": [
    {
     "data": {
      "image/png": "[encoded data removed]",
      "text/plain": [
       "<Figure size 432x288 with 1 Axes>"
      ]
     },
     "metadata": {
      "needs_background": "light"
     },
     "output_type": "display_data"
    }
   ],
   "source": [
    "plt.plot(mergedCumulativeConversions['date'].dt.strftime('%d'),\n",
    "         mergedCumulativeConversions['conversion_B']/mergedCumulativeConversions['conversion_A']-1,\n",
    "         label=\"Относительный прирост конверсии группы B относительно группы A\")\n",
    "plt.legend();\n",
    "\n",
    "plt.axhline(y=0, color='black', linestyle='--')\n",
    "plt.axhline(y=0.1, color='grey', linestyle='--')\n",
    "plt.title('График относительного различия кумулятивных конверсий')\n",
    "plt.xlabel('Число месяца(Август)')\n",
    "plt.ylabel('Конверсия')\n",
    "xticks(np.arange(0, 30, step=2));\n",
    "plt.axis([1, 30, -0.2, 0.25]);"
   ]
  },
  {
   "cell_type": "code",
   "execution_count": null,
   "metadata": {},
   "outputs": [],
   "source": []
  }
 ],
 "metadata": {
  "kernelspec": {
   "display_name": "Python 3",
   "language": "python",
   "name": "python3"
  },
  "language_info": {
   "codemirror_mode": {
    "name": "ipython",
    "version": 3
   },
   "file_extension": ".py",
   "mimetype": "text/x-python",
   "name": "python",
   "nbconvert_exporter": "python",
   "pygments_lexer": "ipython3",
   "version": "3.7.3"
  }
 },
 "nbformat": 4,
 "nbformat_minor": 2
}
